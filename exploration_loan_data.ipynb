{
 "cells": [
  {
   "cell_type": "markdown",
   "metadata": {},
   "source": [
    "# Prosper Loan Data Exploration\n",
    "## by Katarzyna Lesiuk\n",
    "\n",
    "## Preliminary Wrangling\n",
    "\n",
    "This document explores a dataset containing information regarding 113.937 loans from Prosper Loan Marketplace listed between November 2005 and March 2014."
   ]
  },
  {
   "cell_type": "code",
   "execution_count": 2,
   "metadata": {},
   "outputs": [],
   "source": [
    "# import all packages and set plots to be embedded inline\n",
    "import numpy as np\n",
    "import pandas as pd\n",
    "import matplotlib.pyplot as plt\n",
    "import seaborn as sb\n",
    "\n",
    "%matplotlib inline"
   ]
  },
  {
   "cell_type": "code",
   "execution_count": 3,
   "metadata": {},
   "outputs": [
    {
     "data": {
      "text/html": [
       "<div>\n",
       "<style scoped>\n",
       "    .dataframe tbody tr th:only-of-type {\n",
       "        vertical-align: middle;\n",
       "    }\n",
       "\n",
       "    .dataframe tbody tr th {\n",
       "        vertical-align: top;\n",
       "    }\n",
       "\n",
       "    .dataframe thead th {\n",
       "        text-align: right;\n",
       "    }\n",
       "</style>\n",
       "<table border=\"1\" class=\"dataframe\">\n",
       "  <thead>\n",
       "    <tr style=\"text-align: right;\">\n",
       "      <th></th>\n",
       "      <th>ListingKey</th>\n",
       "      <th>ListingNumber</th>\n",
       "      <th>ListingCreationDate</th>\n",
       "      <th>CreditGrade</th>\n",
       "      <th>Term</th>\n",
       "      <th>LoanStatus</th>\n",
       "      <th>ClosedDate</th>\n",
       "      <th>BorrowerAPR</th>\n",
       "      <th>BorrowerRate</th>\n",
       "      <th>LenderYield</th>\n",
       "      <th>...</th>\n",
       "      <th>LP_ServiceFees</th>\n",
       "      <th>LP_CollectionFees</th>\n",
       "      <th>LP_GrossPrincipalLoss</th>\n",
       "      <th>LP_NetPrincipalLoss</th>\n",
       "      <th>LP_NonPrincipalRecoverypayments</th>\n",
       "      <th>PercentFunded</th>\n",
       "      <th>Recommendations</th>\n",
       "      <th>InvestmentFromFriendsCount</th>\n",
       "      <th>InvestmentFromFriendsAmount</th>\n",
       "      <th>Investors</th>\n",
       "    </tr>\n",
       "  </thead>\n",
       "  <tbody>\n",
       "    <tr>\n",
       "      <th>0</th>\n",
       "      <td>1021339766868145413AB3B</td>\n",
       "      <td>193129</td>\n",
       "      <td>2007-08-26 19:09:29.263000000</td>\n",
       "      <td>C</td>\n",
       "      <td>36</td>\n",
       "      <td>Completed</td>\n",
       "      <td>2009-08-14 00:00:00</td>\n",
       "      <td>0.16516</td>\n",
       "      <td>0.1580</td>\n",
       "      <td>0.1380</td>\n",
       "      <td>...</td>\n",
       "      <td>-133.18</td>\n",
       "      <td>0.0</td>\n",
       "      <td>0.0</td>\n",
       "      <td>0.0</td>\n",
       "      <td>0.0</td>\n",
       "      <td>1.0</td>\n",
       "      <td>0</td>\n",
       "      <td>0</td>\n",
       "      <td>0.0</td>\n",
       "      <td>258</td>\n",
       "    </tr>\n",
       "    <tr>\n",
       "      <th>1</th>\n",
       "      <td>10273602499503308B223C1</td>\n",
       "      <td>1209647</td>\n",
       "      <td>2014-02-27 08:28:07.900000000</td>\n",
       "      <td>NaN</td>\n",
       "      <td>36</td>\n",
       "      <td>Current</td>\n",
       "      <td>NaN</td>\n",
       "      <td>0.12016</td>\n",
       "      <td>0.0920</td>\n",
       "      <td>0.0820</td>\n",
       "      <td>...</td>\n",
       "      <td>0.00</td>\n",
       "      <td>0.0</td>\n",
       "      <td>0.0</td>\n",
       "      <td>0.0</td>\n",
       "      <td>0.0</td>\n",
       "      <td>1.0</td>\n",
       "      <td>0</td>\n",
       "      <td>0</td>\n",
       "      <td>0.0</td>\n",
       "      <td>1</td>\n",
       "    </tr>\n",
       "    <tr>\n",
       "      <th>2</th>\n",
       "      <td>0EE9337825851032864889A</td>\n",
       "      <td>81716</td>\n",
       "      <td>2007-01-05 15:00:47.090000000</td>\n",
       "      <td>HR</td>\n",
       "      <td>36</td>\n",
       "      <td>Completed</td>\n",
       "      <td>2009-12-17 00:00:00</td>\n",
       "      <td>0.28269</td>\n",
       "      <td>0.2750</td>\n",
       "      <td>0.2400</td>\n",
       "      <td>...</td>\n",
       "      <td>-24.20</td>\n",
       "      <td>0.0</td>\n",
       "      <td>0.0</td>\n",
       "      <td>0.0</td>\n",
       "      <td>0.0</td>\n",
       "      <td>1.0</td>\n",
       "      <td>0</td>\n",
       "      <td>0</td>\n",
       "      <td>0.0</td>\n",
       "      <td>41</td>\n",
       "    </tr>\n",
       "    <tr>\n",
       "      <th>3</th>\n",
       "      <td>0EF5356002482715299901A</td>\n",
       "      <td>658116</td>\n",
       "      <td>2012-10-22 11:02:35.010000000</td>\n",
       "      <td>NaN</td>\n",
       "      <td>36</td>\n",
       "      <td>Current</td>\n",
       "      <td>NaN</td>\n",
       "      <td>0.12528</td>\n",
       "      <td>0.0974</td>\n",
       "      <td>0.0874</td>\n",
       "      <td>...</td>\n",
       "      <td>-108.01</td>\n",
       "      <td>0.0</td>\n",
       "      <td>0.0</td>\n",
       "      <td>0.0</td>\n",
       "      <td>0.0</td>\n",
       "      <td>1.0</td>\n",
       "      <td>0</td>\n",
       "      <td>0</td>\n",
       "      <td>0.0</td>\n",
       "      <td>158</td>\n",
       "    </tr>\n",
       "    <tr>\n",
       "      <th>4</th>\n",
       "      <td>0F023589499656230C5E3E2</td>\n",
       "      <td>909464</td>\n",
       "      <td>2013-09-14 18:38:39.097000000</td>\n",
       "      <td>NaN</td>\n",
       "      <td>36</td>\n",
       "      <td>Current</td>\n",
       "      <td>NaN</td>\n",
       "      <td>0.24614</td>\n",
       "      <td>0.2085</td>\n",
       "      <td>0.1985</td>\n",
       "      <td>...</td>\n",
       "      <td>-60.27</td>\n",
       "      <td>0.0</td>\n",
       "      <td>0.0</td>\n",
       "      <td>0.0</td>\n",
       "      <td>0.0</td>\n",
       "      <td>1.0</td>\n",
       "      <td>0</td>\n",
       "      <td>0</td>\n",
       "      <td>0.0</td>\n",
       "      <td>20</td>\n",
       "    </tr>\n",
       "  </tbody>\n",
       "</table>\n",
       "<p>5 rows × 81 columns</p>\n",
       "</div>"
      ],
      "text/plain": [
       "                ListingKey  ListingNumber            ListingCreationDate  \\\n",
       "0  1021339766868145413AB3B         193129  2007-08-26 19:09:29.263000000   \n",
       "1  10273602499503308B223C1        1209647  2014-02-27 08:28:07.900000000   \n",
       "2  0EE9337825851032864889A          81716  2007-01-05 15:00:47.090000000   \n",
       "3  0EF5356002482715299901A         658116  2012-10-22 11:02:35.010000000   \n",
       "4  0F023589499656230C5E3E2         909464  2013-09-14 18:38:39.097000000   \n",
       "\n",
       "  CreditGrade  Term LoanStatus           ClosedDate  BorrowerAPR  \\\n",
       "0           C    36  Completed  2009-08-14 00:00:00      0.16516   \n",
       "1         NaN    36    Current                  NaN      0.12016   \n",
       "2          HR    36  Completed  2009-12-17 00:00:00      0.28269   \n",
       "3         NaN    36    Current                  NaN      0.12528   \n",
       "4         NaN    36    Current                  NaN      0.24614   \n",
       "\n",
       "   BorrowerRate  LenderYield  ...  LP_ServiceFees  LP_CollectionFees  \\\n",
       "0        0.1580       0.1380  ...         -133.18                0.0   \n",
       "1        0.0920       0.0820  ...            0.00                0.0   \n",
       "2        0.2750       0.2400  ...          -24.20                0.0   \n",
       "3        0.0974       0.0874  ...         -108.01                0.0   \n",
       "4        0.2085       0.1985  ...          -60.27                0.0   \n",
       "\n",
       "   LP_GrossPrincipalLoss  LP_NetPrincipalLoss LP_NonPrincipalRecoverypayments  \\\n",
       "0                    0.0                  0.0                             0.0   \n",
       "1                    0.0                  0.0                             0.0   \n",
       "2                    0.0                  0.0                             0.0   \n",
       "3                    0.0                  0.0                             0.0   \n",
       "4                    0.0                  0.0                             0.0   \n",
       "\n",
       "   PercentFunded  Recommendations InvestmentFromFriendsCount  \\\n",
       "0            1.0                0                          0   \n",
       "1            1.0                0                          0   \n",
       "2            1.0                0                          0   \n",
       "3            1.0                0                          0   \n",
       "4            1.0                0                          0   \n",
       "\n",
       "  InvestmentFromFriendsAmount Investors  \n",
       "0                         0.0       258  \n",
       "1                         0.0         1  \n",
       "2                         0.0        41  \n",
       "3                         0.0       158  \n",
       "4                         0.0        20  \n",
       "\n",
       "[5 rows x 81 columns]"
      ]
     },
     "execution_count": 3,
     "metadata": {},
     "output_type": "execute_result"
    }
   ],
   "source": [
    "# load data set\n",
    "df = pd.read_csv('prosperLoanData.csv')\n",
    "# display top 5 rows visually inspect the dataset\n",
    "df.head()"
   ]
  },
  {
   "cell_type": "code",
   "execution_count": 4,
   "metadata": {},
   "outputs": [
    {
     "name": "stdout",
     "output_type": "stream",
     "text": [
      "<class 'pandas.core.frame.DataFrame'>\n",
      "RangeIndex: 113937 entries, 0 to 113936\n",
      "Data columns (total 81 columns):\n",
      " #   Column                               Non-Null Count   Dtype  \n",
      "---  ------                               --------------   -----  \n",
      " 0   ListingKey                           113937 non-null  object \n",
      " 1   ListingNumber                        113937 non-null  int64  \n",
      " 2   ListingCreationDate                  113937 non-null  object \n",
      " 3   CreditGrade                          28953 non-null   object \n",
      " 4   Term                                 113937 non-null  int64  \n",
      " 5   LoanStatus                           113937 non-null  object \n",
      " 6   ClosedDate                           55089 non-null   object \n",
      " 7   BorrowerAPR                          113912 non-null  float64\n",
      " 8   BorrowerRate                         113937 non-null  float64\n",
      " 9   LenderYield                          113937 non-null  float64\n",
      " 10  EstimatedEffectiveYield              84853 non-null   float64\n",
      " 11  EstimatedLoss                        84853 non-null   float64\n",
      " 12  EstimatedReturn                      84853 non-null   float64\n",
      " 13  ProsperRating (numeric)              84853 non-null   float64\n",
      " 14  ProsperRating (Alpha)                84853 non-null   object \n",
      " 15  ProsperScore                         84853 non-null   float64\n",
      " 16  ListingCategory (numeric)            113937 non-null  int64  \n",
      " 17  BorrowerState                        108422 non-null  object \n",
      " 18  Occupation                           110349 non-null  object \n",
      " 19  EmploymentStatus                     111682 non-null  object \n",
      " 20  EmploymentStatusDuration             106312 non-null  float64\n",
      " 21  IsBorrowerHomeowner                  113937 non-null  bool   \n",
      " 22  CurrentlyInGroup                     113937 non-null  bool   \n",
      " 23  GroupKey                             13341 non-null   object \n",
      " 24  DateCreditPulled                     113937 non-null  object \n",
      " 25  CreditScoreRangeLower                113346 non-null  float64\n",
      " 26  CreditScoreRangeUpper                113346 non-null  float64\n",
      " 27  FirstRecordedCreditLine              113240 non-null  object \n",
      " 28  CurrentCreditLines                   106333 non-null  float64\n",
      " 29  OpenCreditLines                      106333 non-null  float64\n",
      " 30  TotalCreditLinespast7years           113240 non-null  float64\n",
      " 31  OpenRevolvingAccounts                113937 non-null  int64  \n",
      " 32  OpenRevolvingMonthlyPayment          113937 non-null  float64\n",
      " 33  InquiriesLast6Months                 113240 non-null  float64\n",
      " 34  TotalInquiries                       112778 non-null  float64\n",
      " 35  CurrentDelinquencies                 113240 non-null  float64\n",
      " 36  AmountDelinquent                     106315 non-null  float64\n",
      " 37  DelinquenciesLast7Years              112947 non-null  float64\n",
      " 38  PublicRecordsLast10Years             113240 non-null  float64\n",
      " 39  PublicRecordsLast12Months            106333 non-null  float64\n",
      " 40  RevolvingCreditBalance               106333 non-null  float64\n",
      " 41  BankcardUtilization                  106333 non-null  float64\n",
      " 42  AvailableBankcardCredit              106393 non-null  float64\n",
      " 43  TotalTrades                          106393 non-null  float64\n",
      " 44  TradesNeverDelinquent (percentage)   106393 non-null  float64\n",
      " 45  TradesOpenedLast6Months              106393 non-null  float64\n",
      " 46  DebtToIncomeRatio                    105383 non-null  float64\n",
      " 47  IncomeRange                          113937 non-null  object \n",
      " 48  IncomeVerifiable                     113937 non-null  bool   \n",
      " 49  StatedMonthlyIncome                  113937 non-null  float64\n",
      " 50  LoanKey                              113937 non-null  object \n",
      " 51  TotalProsperLoans                    22085 non-null   float64\n",
      " 52  TotalProsperPaymentsBilled           22085 non-null   float64\n",
      " 53  OnTimeProsperPayments                22085 non-null   float64\n",
      " 54  ProsperPaymentsLessThanOneMonthLate  22085 non-null   float64\n",
      " 55  ProsperPaymentsOneMonthPlusLate      22085 non-null   float64\n",
      " 56  ProsperPrincipalBorrowed             22085 non-null   float64\n",
      " 57  ProsperPrincipalOutstanding          22085 non-null   float64\n",
      " 58  ScorexChangeAtTimeOfListing          18928 non-null   float64\n",
      " 59  LoanCurrentDaysDelinquent            113937 non-null  int64  \n",
      " 60  LoanFirstDefaultedCycleNumber        16952 non-null   float64\n",
      " 61  LoanMonthsSinceOrigination           113937 non-null  int64  \n",
      " 62  LoanNumber                           113937 non-null  int64  \n",
      " 63  LoanOriginalAmount                   113937 non-null  int64  \n",
      " 64  LoanOriginationDate                  113937 non-null  object \n",
      " 65  LoanOriginationQuarter               113937 non-null  object \n",
      " 66  MemberKey                            113937 non-null  object \n",
      " 67  MonthlyLoanPayment                   113937 non-null  float64\n",
      " 68  LP_CustomerPayments                  113937 non-null  float64\n",
      " 69  LP_CustomerPrincipalPayments         113937 non-null  float64\n",
      " 70  LP_InterestandFees                   113937 non-null  float64\n",
      " 71  LP_ServiceFees                       113937 non-null  float64\n",
      " 72  LP_CollectionFees                    113937 non-null  float64\n",
      " 73  LP_GrossPrincipalLoss                113937 non-null  float64\n",
      " 74  LP_NetPrincipalLoss                  113937 non-null  float64\n",
      " 75  LP_NonPrincipalRecoverypayments      113937 non-null  float64\n",
      " 76  PercentFunded                        113937 non-null  float64\n",
      " 77  Recommendations                      113937 non-null  int64  \n",
      " 78  InvestmentFromFriendsCount           113937 non-null  int64  \n",
      " 79  InvestmentFromFriendsAmount          113937 non-null  float64\n",
      " 80  Investors                            113937 non-null  int64  \n",
      "dtypes: bool(3), float64(50), int64(11), object(17)\n",
      "memory usage: 68.1+ MB\n"
     ]
    }
   ],
   "source": [
    "# check basic information about the data set\n",
    "df.info()"
   ]
  },
  {
   "cell_type": "code",
   "execution_count": 5,
   "metadata": {},
   "outputs": [
    {
     "data": {
      "text/plain": [
       "('2005-11-09 20:44:28.847000000', '2014-03-10 12:20:53.760000000')"
      ]
     },
     "execution_count": 5,
     "metadata": {},
     "output_type": "execute_result"
    }
   ],
   "source": [
    "# check the time span of data gathered\n",
    "pd.to_datetime(df.ListingCreationDate)\n",
    "(df.ListingCreationDate.min(), df.ListingCreationDate.max())"
   ]
  },
  {
   "cell_type": "markdown",
   "metadata": {},
   "source": [
    "### What is the structure of the dataset?\n",
    "\n",
    "The Prosper Loan Data dataset contains 113937 loans listed between 2005-11-09 and 2014-03-10 on Prosper, i.e. an online loan marketplace for borrowers and lenders.\n",
    "Each row represents one listing and multiple features for each loan are stored in the columns of the data frame (81 for each entry). The features include numerous borrower characterstics (both quantitative and qualitative in nature), loan features (rate, term, status, amounts related to loan origination and service etc.) as well as information related to loan investors.\n",
    "\n",
    "### What is/are the main feature(s) of interest in your dataset?\n",
    "\n",
    "I'm most interested in which features of the loan and the borrower have the greatest impact on loan defaults.\n",
    "\n",
    "### What features in the dataset do you think will help support your investigation into your feature(s) of interest?\n",
    "\n",
    "I expect that Borrower related features including occupation, debt to income ratio, employment status, & duration as well as income range to influence loan defaults. Loan characteristics including term, amount and listing category are expected to have a somewhat lesser impact. "
   ]
  },
  {
   "cell_type": "markdown",
   "metadata": {},
   "source": [
    "## Data Assessment"
   ]
  },
  {
   "cell_type": "markdown",
   "metadata": {},
   "source": [
    "As the original dataset includes a lot of variables that are outside the scope of this analysis the first step before any further analysis will be performed is to extract and clean the necessary data.\n",
    "The variables chosen for further analysis will be limited to the following loan and borrower characteristics:\n",
    "Loan features:\n",
    "- ListingNumber\n",
    "- ListingCreationDate\n",
    "- CreditGrade\n",
    "- ProsperRating (Alpha)\n",
    "- Term\n",
    "- LoanStatus\n",
    "- BorrowerRate\n",
    "- ListingCategory\n",
    "\n",
    "\n",
    "Borrower features:\n",
    "- EmploymentStatus\n",
    "- EmploymentStatusDuration\n",
    "- IsBorrowerHomeowner\n",
    "- DebtToIncomeRatio\n",
    "- IncomeRange"
   ]
  },
  {
   "cell_type": "code",
   "execution_count": 6,
   "metadata": {},
   "outputs": [
    {
     "name": "stdout",
     "output_type": "stream",
     "text": [
      "<class 'pandas.core.frame.DataFrame'>\n",
      "RangeIndex: 113937 entries, 0 to 113936\n",
      "Data columns (total 13 columns):\n",
      " #   Column                     Non-Null Count   Dtype  \n",
      "---  ------                     --------------   -----  \n",
      " 0   ListingNumber              113937 non-null  int64  \n",
      " 1   ListingCreationDate        113937 non-null  object \n",
      " 2   CreditGrade                28953 non-null   object \n",
      " 3   ProsperRating (Alpha)      84853 non-null   object \n",
      " 4   Term                       113937 non-null  int64  \n",
      " 5   LoanStatus                 113937 non-null  object \n",
      " 6   BorrowerRate               113937 non-null  float64\n",
      " 7   ListingCategory (numeric)  113937 non-null  int64  \n",
      " 8   EmploymentStatus           111682 non-null  object \n",
      " 9   EmploymentStatusDuration   106312 non-null  float64\n",
      " 10  IsBorrowerHomeowner        113937 non-null  bool   \n",
      " 11  DebtToIncomeRatio          105383 non-null  float64\n",
      " 12  IncomeRange                113937 non-null  object \n",
      "dtypes: bool(1), float64(3), int64(3), object(6)\n",
      "memory usage: 10.5+ MB\n"
     ]
    }
   ],
   "source": [
    "#create list of columns to be extracted from the original df\n",
    "columns_list = ['ListingNumber', 'ListingCreationDate', 'CreditGrade', 'ProsperRating (Alpha)', 'Term', 'LoanStatus', 'BorrowerRate', 'ListingCategory (numeric)', 'EmploymentStatus', 'EmploymentStatusDuration', 'IsBorrowerHomeowner', 'DebtToIncomeRatio', 'IncomeRange']\n",
    "# create new df for further analysis\n",
    "df = df[columns_list]\n",
    "# check new df information\n",
    "df.info()"
   ]
  },
  {
   "cell_type": "code",
   "execution_count": 7,
   "metadata": {},
   "outputs": [
    {
     "data": {
      "text/plain": [
       "84853"
      ]
     },
     "execution_count": 7,
     "metadata": {},
     "output_type": "execute_result"
    }
   ],
   "source": [
    "df['ProsperRating (Alpha)'].value_counts().sum()"
   ]
  },
  {
   "cell_type": "code",
   "execution_count": 8,
   "metadata": {},
   "outputs": [
    {
     "data": {
      "text/plain": [
       "28953"
      ]
     },
     "execution_count": 8,
     "metadata": {},
     "output_type": "execute_result"
    }
   ],
   "source": [
    "df['CreditGrade'].value_counts().sum()"
   ]
  },
  {
   "cell_type": "code",
   "execution_count": 9,
   "metadata": {},
   "outputs": [
    {
     "data": {
      "text/plain": [
       "113806"
      ]
     },
     "execution_count": 9,
     "metadata": {},
     "output_type": "execute_result"
    }
   ],
   "source": [
    "df['ProsperRating (Alpha)'].value_counts().sum() + df['CreditGrade'].value_counts().sum()"
   ]
  },
  {
   "cell_type": "code",
   "execution_count": 10,
   "metadata": {},
   "outputs": [
    {
     "data": {
      "text/plain": [
       "0"
      ]
     },
     "execution_count": 10,
     "metadata": {},
     "output_type": "execute_result"
    }
   ],
   "source": [
    "# check if there are any records with double rating\n",
    "df[~df['ProsperRating (Alpha)'].isnull() & ~df['CreditGrade'].isnull()].shape[0]"
   ]
  },
  {
   "cell_type": "code",
   "execution_count": 11,
   "metadata": {},
   "outputs": [
    {
     "data": {
      "text/plain": [
       "Employed         67322\n",
       "Full-time        26355\n",
       "Self-employed     6134\n",
       "Not available     5347\n",
       "Other             3806\n",
       "Part-time         1088\n",
       "Not employed       835\n",
       "Retired            795\n",
       "Name: EmploymentStatus, dtype: int64"
      ]
     },
     "execution_count": 11,
     "metadata": {},
     "output_type": "execute_result"
    }
   ],
   "source": [
    "# check EmploymentStatus categories \n",
    "df.EmploymentStatus.value_counts()"
   ]
  },
  {
   "cell_type": "code",
   "execution_count": 12,
   "metadata": {},
   "outputs": [
    {
     "data": {
      "text/plain": [
       "$25,000-49,999    32192\n",
       "$50,000-74,999    31050\n",
       "$100,000+         17337\n",
       "$75,000-99,999    16916\n",
       "Not displayed      7741\n",
       "$1-24,999          7274\n",
       "Not employed        806\n",
       "$0                  621\n",
       "Name: IncomeRange, dtype: int64"
      ]
     },
     "execution_count": 12,
     "metadata": {},
     "output_type": "execute_result"
    }
   ],
   "source": [
    "# check IncomeRange categories \n",
    "df.IncomeRange.value_counts()"
   ]
  },
  {
   "cell_type": "code",
   "execution_count": 13,
   "metadata": {},
   "outputs": [
    {
     "data": {
      "text/plain": [
       "Current                   56576\n",
       "Completed                 38074\n",
       "Chargedoff                11992\n",
       "Defaulted                  5018\n",
       "Past Due (1-15 days)        806\n",
       "Past Due (31-60 days)       363\n",
       "Past Due (61-90 days)       313\n",
       "Past Due (91-120 days)      304\n",
       "Past Due (16-30 days)       265\n",
       "FinalPaymentInProgress      205\n",
       "Past Due (>120 days)         16\n",
       "Cancelled                     5\n",
       "Name: LoanStatus, dtype: int64"
      ]
     },
     "execution_count": 13,
     "metadata": {},
     "output_type": "execute_result"
    }
   ],
   "source": [
    "# check LoanStatus Categories\n",
    "df.LoanStatus.value_counts()"
   ]
  },
  {
   "cell_type": "code",
   "execution_count": 14,
   "metadata": {},
   "outputs": [
    {
     "data": {
      "text/html": [
       "<div>\n",
       "<style scoped>\n",
       "    .dataframe tbody tr th:only-of-type {\n",
       "        vertical-align: middle;\n",
       "    }\n",
       "\n",
       "    .dataframe tbody tr th {\n",
       "        vertical-align: top;\n",
       "    }\n",
       "\n",
       "    .dataframe thead th {\n",
       "        text-align: right;\n",
       "    }\n",
       "</style>\n",
       "<table border=\"1\" class=\"dataframe\">\n",
       "  <thead>\n",
       "    <tr style=\"text-align: right;\">\n",
       "      <th></th>\n",
       "      <th>ListingNumber</th>\n",
       "      <th>ListingCreationDate</th>\n",
       "      <th>CreditGrade</th>\n",
       "      <th>ProsperRating (Alpha)</th>\n",
       "      <th>Term</th>\n",
       "      <th>LoanStatus</th>\n",
       "      <th>BorrowerRate</th>\n",
       "      <th>ListingCategory (numeric)</th>\n",
       "      <th>EmploymentStatus</th>\n",
       "      <th>EmploymentStatusDuration</th>\n",
       "      <th>IsBorrowerHomeowner</th>\n",
       "      <th>DebtToIncomeRatio</th>\n",
       "      <th>IncomeRange</th>\n",
       "    </tr>\n",
       "  </thead>\n",
       "  <tbody>\n",
       "    <tr>\n",
       "      <th>112975</th>\n",
       "      <td>410006</td>\n",
       "      <td>2008-10-07 17:09:34.653000000</td>\n",
       "      <td>A</td>\n",
       "      <td>NaN</td>\n",
       "      <td>36</td>\n",
       "      <td>Cancelled</td>\n",
       "      <td>0.1075</td>\n",
       "      <td>1</td>\n",
       "      <td>Full-time</td>\n",
       "      <td>30.0</td>\n",
       "      <td>False</td>\n",
       "      <td>0.34000</td>\n",
       "      <td>$25,000-49,999</td>\n",
       "    </tr>\n",
       "    <tr>\n",
       "      <th>72480</th>\n",
       "      <td>908</td>\n",
       "      <td>2006-02-28 08:18:58.527000000</td>\n",
       "      <td>HR</td>\n",
       "      <td>NaN</td>\n",
       "      <td>36</td>\n",
       "      <td>Cancelled</td>\n",
       "      <td>0.2000</td>\n",
       "      <td>0</td>\n",
       "      <td>NaN</td>\n",
       "      <td>NaN</td>\n",
       "      <td>False</td>\n",
       "      <td>0.15248</td>\n",
       "      <td>Not displayed</td>\n",
       "    </tr>\n",
       "    <tr>\n",
       "      <th>332</th>\n",
       "      <td>8912</td>\n",
       "      <td>2006-04-26 22:23:10.147000000</td>\n",
       "      <td>HR</td>\n",
       "      <td>NaN</td>\n",
       "      <td>36</td>\n",
       "      <td>Cancelled</td>\n",
       "      <td>0.2375</td>\n",
       "      <td>0</td>\n",
       "      <td>NaN</td>\n",
       "      <td>NaN</td>\n",
       "      <td>True</td>\n",
       "      <td>0.10361</td>\n",
       "      <td>Not displayed</td>\n",
       "    </tr>\n",
       "    <tr>\n",
       "      <th>97281</th>\n",
       "      <td>11364</td>\n",
       "      <td>2006-05-05 03:16:59.510000000</td>\n",
       "      <td>HR</td>\n",
       "      <td>NaN</td>\n",
       "      <td>36</td>\n",
       "      <td>Cancelled</td>\n",
       "      <td>0.2375</td>\n",
       "      <td>0</td>\n",
       "      <td>NaN</td>\n",
       "      <td>NaN</td>\n",
       "      <td>False</td>\n",
       "      <td>0.01504</td>\n",
       "      <td>Not displayed</td>\n",
       "    </tr>\n",
       "    <tr>\n",
       "      <th>59998</th>\n",
       "      <td>7646</td>\n",
       "      <td>2006-04-25 07:59:15.203000000</td>\n",
       "      <td>C</td>\n",
       "      <td>NaN</td>\n",
       "      <td>36</td>\n",
       "      <td>Cancelled</td>\n",
       "      <td>0.1395</td>\n",
       "      <td>0</td>\n",
       "      <td>Not available</td>\n",
       "      <td>NaN</td>\n",
       "      <td>True</td>\n",
       "      <td>0.21321</td>\n",
       "      <td>Not displayed</td>\n",
       "    </tr>\n",
       "  </tbody>\n",
       "</table>\n",
       "</div>"
      ],
      "text/plain": [
       "        ListingNumber            ListingCreationDate CreditGrade  \\\n",
       "112975         410006  2008-10-07 17:09:34.653000000           A   \n",
       "72480             908  2006-02-28 08:18:58.527000000          HR   \n",
       "332              8912  2006-04-26 22:23:10.147000000          HR   \n",
       "97281           11364  2006-05-05 03:16:59.510000000          HR   \n",
       "59998            7646  2006-04-25 07:59:15.203000000           C   \n",
       "\n",
       "       ProsperRating (Alpha)  Term LoanStatus  BorrowerRate  \\\n",
       "112975                   NaN    36  Cancelled        0.1075   \n",
       "72480                    NaN    36  Cancelled        0.2000   \n",
       "332                      NaN    36  Cancelled        0.2375   \n",
       "97281                    NaN    36  Cancelled        0.2375   \n",
       "59998                    NaN    36  Cancelled        0.1395   \n",
       "\n",
       "        ListingCategory (numeric) EmploymentStatus  EmploymentStatusDuration  \\\n",
       "112975                          1        Full-time                      30.0   \n",
       "72480                           0              NaN                       NaN   \n",
       "332                             0              NaN                       NaN   \n",
       "97281                           0              NaN                       NaN   \n",
       "59998                           0    Not available                       NaN   \n",
       "\n",
       "        IsBorrowerHomeowner  DebtToIncomeRatio     IncomeRange  \n",
       "112975                False            0.34000  $25,000-49,999  \n",
       "72480                 False            0.15248   Not displayed  \n",
       "332                    True            0.10361   Not displayed  \n",
       "97281                 False            0.01504   Not displayed  \n",
       "59998                  True            0.21321   Not displayed  "
      ]
     },
     "execution_count": 14,
     "metadata": {},
     "output_type": "execute_result"
    }
   ],
   "source": [
    "df[df['LoanStatus'].isin(['Cancelled'])].sample(5)"
   ]
  },
  {
   "cell_type": "markdown",
   "metadata": {},
   "source": [
    "Summary of identified quality issues:\n",
    "- ListingNumber - incorect data type: int while it should be str\n",
    "- ListingCreationDate - incorrect data type: object while should be datetype\n",
    "- Term - is integer but ordered category fits better in this case\n",
    "- CreditGrade & Prosper Rating - incorrect data type: object while should be ordered category, also because until 2009 different credit rating was used there are two columns that store credit ratings\n",
    "- Listing Category - additional string after blank space in column name, numeric values difficult to interpret as a dictionary with assignes values is needed\n",
    "- Loan Status - status Cancelled: not useful for further analysis, Past Due statuses - as all of the Past Due statuses indicate a payment default, the precise distinction of days past due is not relevant for the analysis to be performed\n",
    "- Employment Status - category \"Not available\" instead of NaN\n",
    "- Income Range - category \"Not displayed\" is a type of NaN, not employed implies that the income range is equal to 0USD, once these are corrected the the data type should be converter to ordered category"
   ]
  },
  {
   "cell_type": "markdown",
   "metadata": {},
   "source": [
    "## Data Cleaning"
   ]
  },
  {
   "cell_type": "code",
   "execution_count": 15,
   "metadata": {},
   "outputs": [],
   "source": [
    "# copy the original df before cleaning\n",
    "\n",
    "df_final = df.copy()"
   ]
  },
  {
   "cell_type": "markdown",
   "metadata": {},
   "source": [
    "### Listing Number\n",
    "\n",
    "change date type from integer to string"
   ]
  },
  {
   "cell_type": "code",
   "execution_count": 16,
   "metadata": {},
   "outputs": [],
   "source": [
    "df_final.ListingNumber = df_final.ListingNumber.astype('str')"
   ]
  },
  {
   "cell_type": "code",
   "execution_count": 17,
   "metadata": {},
   "outputs": [
    {
     "data": {
      "text/plain": [
       "dtype('O')"
      ]
     },
     "execution_count": 17,
     "metadata": {},
     "output_type": "execute_result"
    }
   ],
   "source": [
    "# check dtype\n",
    "df_final.ListingNumber.dtype"
   ]
  },
  {
   "cell_type": "markdown",
   "metadata": {},
   "source": [
    "### ListingCreationDate\n",
    "\n",
    "change data type from object to datetime"
   ]
  },
  {
   "cell_type": "code",
   "execution_count": 18,
   "metadata": {},
   "outputs": [],
   "source": [
    "df_final.ListingCreationDate = pd.to_datetime(df_final.ListingCreationDate)"
   ]
  },
  {
   "cell_type": "code",
   "execution_count": 19,
   "metadata": {},
   "outputs": [
    {
     "data": {
      "text/plain": [
       "dtype('<M8[ns]')"
      ]
     },
     "execution_count": 19,
     "metadata": {},
     "output_type": "execute_result"
    }
   ],
   "source": [
    "df_final.ListingCreationDate.dtype"
   ]
  },
  {
   "cell_type": "markdown",
   "metadata": {},
   "source": [
    "## Term\n",
    "convert data type to ordered categorical type"
   ]
  },
  {
   "cell_type": "code",
   "execution_count": 20,
   "metadata": {},
   "outputs": [],
   "source": [
    "# convert to ordered categorical\n",
    "cat_dtype = pd.api.types.CategoricalDtype(categories=[12, 36, 60], ordered=True)\n",
    "df_final.Term = df_final.Term.astype(cat_dtype)"
   ]
  },
  {
   "cell_type": "code",
   "execution_count": 21,
   "metadata": {},
   "outputs": [
    {
     "data": {
      "text/plain": [
       "CategoricalDtype(categories=[12, 36, 60], ordered=True)"
      ]
     },
     "execution_count": 21,
     "metadata": {},
     "output_type": "execute_result"
    }
   ],
   "source": [
    "#check data type\n",
    "df_final.Term.dtype"
   ]
  },
  {
   "cell_type": "code",
   "execution_count": 22,
   "metadata": {},
   "outputs": [
    {
     "data": {
      "text/plain": [
       "36    87778\n",
       "60    24545\n",
       "12     1614\n",
       "Name: Term, dtype: int64"
      ]
     },
     "execution_count": 22,
     "metadata": {},
     "output_type": "execute_result"
    }
   ],
   "source": [
    "df_final.Term.value_counts()"
   ]
  },
  {
   "cell_type": "markdown",
   "metadata": {},
   "source": [
    "### CreditGrade & Prosper Rating\n",
    "combine credit ratings currently stored in two variables to one colums 'CreditRating', drop excess columns and change data type of newly created columns from object to ordered category,"
   ]
  },
  {
   "cell_type": "code",
   "execution_count": 23,
   "metadata": {},
   "outputs": [
    {
     "data": {
      "text/plain": [
       "C     23994\n",
       "B     19970\n",
       "D     19427\n",
       "A     17866\n",
       "E     13084\n",
       "HR    10443\n",
       "AA     8881\n",
       "Name: CreditRating, dtype: int64"
      ]
     },
     "execution_count": 23,
     "metadata": {},
     "output_type": "execute_result"
    }
   ],
   "source": [
    "# combine credit ratings from both columns and remove nan strings\n",
    "df_final['CreditRating'] = (df_final['CreditGrade'].astype(str) + df_final['ProsperRating (Alpha)'].astype(str)).str.replace('nan', '')\n",
    "# replace empty cells and NS values with np.nan\n",
    "df_final['CreditRating'] = df_final['CreditRating'].replace(['', 'NC'], np.nan)\n",
    "# drop excess columns\n",
    "df_final.drop(columns=['CreditGrade', 'ProsperRating (Alpha)'], inplace=True)\n",
    "df_final['CreditRating'].value_counts()"
   ]
  },
  {
   "cell_type": "code",
   "execution_count": 24,
   "metadata": {},
   "outputs": [],
   "source": [
    "# convert data type of 'CreditRating' to ordered categorical type\n",
    "\n",
    "cat_dtype = pd.api.types.CategoricalDtype(categories=['HR', 'E', 'D', 'C', 'B', 'A', 'AA'], ordered=True)\n",
    "df_final.CreditRating = df_final.CreditRating.astype(cat_dtype)"
   ]
  },
  {
   "cell_type": "code",
   "execution_count": 25,
   "metadata": {},
   "outputs": [
    {
     "data": {
      "text/plain": [
       "CategoricalIndex(['C', 'B', 'D', 'A', 'E', 'HR', 'AA'], categories=['HR', 'E', 'D', 'C', 'B', 'A', 'AA'], ordered=True, dtype='category')"
      ]
     },
     "execution_count": 25,
     "metadata": {},
     "output_type": "execute_result"
    }
   ],
   "source": [
    "# check final Credit Rating counts & dtype\n",
    "df_final.CreditRating.value_counts().index"
   ]
  },
  {
   "cell_type": "code",
   "execution_count": 26,
   "metadata": {},
   "outputs": [
    {
     "data": {
      "text/plain": [
       "C     23994\n",
       "B     19970\n",
       "D     19427\n",
       "A     17866\n",
       "E     13084\n",
       "HR    10443\n",
       "AA     8881\n",
       "Name: CreditRating, dtype: int64"
      ]
     },
     "execution_count": 26,
     "metadata": {},
     "output_type": "execute_result"
    }
   ],
   "source": [
    "df_final.CreditRating.value_counts()"
   ]
  },
  {
   "cell_type": "code",
   "execution_count": 27,
   "metadata": {},
   "outputs": [
    {
     "data": {
      "text/plain": [
       "0"
      ]
     },
     "execution_count": 27,
     "metadata": {},
     "output_type": "execute_result"
    }
   ],
   "source": [
    "#check if columns successfully dropped\n",
    "df_final.columns.isin(['CreditGrade', 'ProsperRating (Alpha)']).sum()"
   ]
  },
  {
   "cell_type": "markdown",
   "metadata": {},
   "source": [
    "### Listing Category\n",
    "\n",
    "Replace numeric values with descriptions for easier interpretability, rename column to ListingCategory"
   ]
  },
  {
   "cell_type": "code",
   "execution_count": 28,
   "metadata": {},
   "outputs": [
    {
     "data": {
      "text/plain": [
       "Debt Consolidation    58308\n",
       "Other                 10494\n",
       "Home Improvement       7433\n",
       "Business               7189\n",
       "Auto                   2572\n",
       "Personal Loan          2395\n",
       "Household Expenses     1996\n",
       "Medical/Dental         1522\n",
       "Taxes                   885\n",
       "Large Purchases         876\n",
       "Wedding Loans           771\n",
       "Vacation                768\n",
       "Student Use             756\n",
       "Motorcycle              304\n",
       "Engagement Ring         217\n",
       "Baby&Adoption           199\n",
       "Cosmetic Procedure       91\n",
       "Boat                     85\n",
       "Green Loans              59\n",
       "RV                       52\n",
       "Name: ListingCategory, dtype: int64"
      ]
     },
     "execution_count": 28,
     "metadata": {},
     "output_type": "execute_result"
    }
   ],
   "source": [
    "#rename column\n",
    "df_final.rename(columns={\"ListingCategory (numeric)\": \"ListingCategory\"}, inplace=True)\n",
    "#replace numeric values with  descriptions / np.nan\n",
    "value_map = {0: np.nan, 1: 'Debt Consolidation', 2: 'Home Improvement', 3: 'Business', 4: 'Personal Loan', 5: 'Student Use', 6: 'Auto', 7: 'Other', 8: 'Baby&Adoption', 9: 'Boat', 10: 'Cosmetic Procedure', 11: 'Engagement Ring', 12: 'Green Loans', 13: 'Household Expenses', 14: 'Large Purchases', 15: 'Medical/Dental', 16: 'Motorcycle', 17: 'RV', 18: 'Taxes', 19: 'Vacation', 20: 'Wedding Loans'}\n",
    "df_final.replace({'ListingCategory': value_map}, inplace=True)\n",
    "# check updated statuse value counts\n",
    "df_final.ListingCategory.value_counts()"
   ]
  },
  {
   "cell_type": "markdown",
   "metadata": {},
   "source": [
    "### Loan Status\n",
    "\n",
    "The Loan Status variable is crucial for further anaysis, as determining which factors influcence the possibility of a loan falling into one of the default categories is the aim of the exploration.\n",
    "\n",
    "According to [Prosper Investment Glossary](https://www.prosper.com/investor/glossary): \"Active Loans means loans that are current in payments or delinquent less than 120 days. Loans that have paid off, charged-off or are in default are not considered active.\"\n",
    "\n",
    "Since it is interesting to see statistics for both active and closed loans I decided to assign the existing statuses the the following newly created categories:\n",
    "\n",
    "1. active_performing: Current\n",
    "2. active_nonperforming: all Past Due categories below 120 days\n",
    "3. closed_performing: Completed, FinalPaymentinProgress\n",
    "4. closed_nonperforming: Chargedoff, Defaulted, Past Due (>120 days)\n",
    "\n",
    "The Cancelled category will be dropped as it is not relevant for further analysis.\n",
    "\n",
    "Also for further visual analysis it will be beneficial if the newly assigned categories are ordered, so a transformation of the data type will be performed as well."
   ]
  },
  {
   "cell_type": "code",
   "execution_count": 29,
   "metadata": {},
   "outputs": [],
   "source": [
    "# reassign categories\n",
    "value_map_ls = {'Current': 'a_performing', \n",
    "                'Completed': 'c_performing', \n",
    "                'Chargedoff': 'c_nonperforming', \n",
    "                'Defaulted': 'c_nonperforming', \n",
    "                'Past Due (1-15 days)': 'a_nonperforming',\n",
    "                'Past Due (16-30 days)': 'a_nonperforming',\n",
    "                'Past Due (31-60 days)': 'a_nonperforming',\n",
    "                'Past Due (61-90 days)': 'a_nonperforming', \n",
    "                'Past Due (91-120 days)': 'a_nonperforming',\n",
    "                'FinalPaymentInProgress': 'c_performing', \n",
    "                'Past Due (>120 days)': 'c_nonperforming'}\n",
    "               \n",
    "df_final.replace({'LoanStatus': value_map_ls}, inplace=True)     \n",
    "\n",
    "#drop rows with Cancelled status\n",
    "df_final.drop(df_final[df_final.LoanStatus == 'Cancelled'].index, inplace=True)\n",
    "\n",
    "#convert to ordered category\n",
    "\n",
    "cat_dtype = pd.api.types.CategoricalDtype(categories=['a_performing', 'a_nonperforming', 'c_performing', 'c_nonperforming'], ordered=True)\n",
    "df_final.LoanStatus = df_final.LoanStatus.astype(cat_dtype)"
   ]
  },
  {
   "cell_type": "code",
   "execution_count": 30,
   "metadata": {},
   "outputs": [
    {
     "data": {
      "text/plain": [
       "CategoricalIndex(['a_performing', 'c_performing', 'c_nonperforming',\n",
       "                  'a_nonperforming'],\n",
       "                 categories=['a_performing', 'a_nonperforming', 'c_performing', 'c_nonperforming'], ordered=True, dtype='category')"
      ]
     },
     "execution_count": 30,
     "metadata": {},
     "output_type": "execute_result"
    }
   ],
   "source": [
    "#check if reassignment was successful\n",
    "df_final.LoanStatus.value_counts().index"
   ]
  },
  {
   "cell_type": "markdown",
   "metadata": {},
   "source": [
    "### Employment Status\n",
    "replace 'Not available' with np.nan"
   ]
  },
  {
   "cell_type": "code",
   "execution_count": 31,
   "metadata": {},
   "outputs": [
    {
     "data": {
      "text/plain": [
       "Index(['Employed', 'Full-time', 'Self-employed', 'Other', 'Part-time',\n",
       "       'Not employed', 'Retired'],\n",
       "      dtype='object')"
      ]
     },
     "execution_count": 31,
     "metadata": {},
     "output_type": "execute_result"
    }
   ],
   "source": [
    "# replace 'Not available' with NaN\n",
    "df_final.EmploymentStatus.replace('Not available', np.nan, inplace=True)\n",
    "#check if category was removed from value_counts\n",
    "df_final.EmploymentStatus.value_counts().index"
   ]
  },
  {
   "cell_type": "markdown",
   "metadata": {},
   "source": [
    "## Income Range\n",
    "* replace \"Not displayed\" with np.nan,\n",
    "* reassign \"not employed\" to income range 0USD category\n",
    "* change data type  to ordered categorical"
   ]
  },
  {
   "cell_type": "code",
   "execution_count": 32,
   "metadata": {},
   "outputs": [
    {
     "data": {
      "text/plain": [
       "$25,000-49,999    32191\n",
       "$50,000-74,999    31050\n",
       "$100,000+         17337\n",
       "$75,000-99,999    16916\n",
       "Not displayed      7737\n",
       "$1-24,999          7274\n",
       "Not employed        806\n",
       "$0                  621\n",
       "Name: IncomeRange, dtype: int64"
      ]
     },
     "execution_count": 32,
     "metadata": {},
     "output_type": "execute_result"
    }
   ],
   "source": [
    "df_final.IncomeRange.value_counts()"
   ]
  },
  {
   "cell_type": "code",
   "execution_count": 33,
   "metadata": {},
   "outputs": [],
   "source": [
    "# replace 'Not displayed' with np.nan \n",
    "df_final.IncomeRange.replace('Not displayed', np.nan, inplace=True)\n",
    "\n",
    "# reassign \"not employed\" to income range 0USD category\n",
    "df_final.IncomeRange.replace('Not employed', '$0', inplace=True)\n",
    "\n",
    "# change data type to ordered categorical\n",
    "cat_dtype = pd.api.types.CategoricalDtype(categories=['$0', '$1-24,999', '$25,000-49,999', '$50,000-74,999', '$75,000-99,999', '$100,000+'], ordered=True)\n",
    "df_final.IncomeRange = df_final.IncomeRange.astype(cat_dtype)"
   ]
  },
  {
   "cell_type": "code",
   "execution_count": 34,
   "metadata": {},
   "outputs": [
    {
     "data": {
      "text/plain": [
       "CategoricalIndex(['$25,000-49,999', '$50,000-74,999', '$100,000+',\n",
       "                  '$75,000-99,999', '$1-24,999', '$0'],\n",
       "                 categories=['$0', '$1-24,999', '$25,000-49,999', '$50,000-74,999', '$75,000-99,999', '$100,000+'], ordered=True, dtype='category')"
      ]
     },
     "execution_count": 34,
     "metadata": {},
     "output_type": "execute_result"
    }
   ],
   "source": [
    "#check final ordered income range categories & dtype\n",
    "df_final.IncomeRange.value_counts().index"
   ]
  },
  {
   "cell_type": "markdown",
   "metadata": {},
   "source": [
    "## Final check and save clean dataframe"
   ]
  },
  {
   "cell_type": "code",
   "execution_count": 35,
   "metadata": {},
   "outputs": [
    {
     "name": "stdout",
     "output_type": "stream",
     "text": [
      "<class 'pandas.core.frame.DataFrame'>\n",
      "Int64Index: 113932 entries, 0 to 113936\n",
      "Data columns (total 12 columns):\n",
      " #   Column                    Non-Null Count   Dtype         \n",
      "---  ------                    --------------   -----         \n",
      " 0   ListingNumber             113932 non-null  object        \n",
      " 1   ListingCreationDate       113932 non-null  datetime64[ns]\n",
      " 2   Term                      113932 non-null  category      \n",
      " 3   LoanStatus                113932 non-null  category      \n",
      " 4   BorrowerRate              113932 non-null  float64       \n",
      " 5   ListingCategory           96971 non-null   object        \n",
      " 6   EmploymentStatus          106334 non-null  object        \n",
      " 7   EmploymentStatusDuration  106311 non-null  float64       \n",
      " 8   IsBorrowerHomeowner       113932 non-null  bool          \n",
      " 9   DebtToIncomeRatio         105378 non-null  float64       \n",
      " 10  IncomeRange               106195 non-null  category      \n",
      " 11  CreditRating              113660 non-null  category      \n",
      "dtypes: bool(1), category(4), datetime64[ns](1), float64(3), object(3)\n",
      "memory usage: 7.5+ MB\n"
     ]
    }
   ],
   "source": [
    "df_final.info()"
   ]
  },
  {
   "cell_type": "code",
   "execution_count": 36,
   "metadata": {},
   "outputs": [
    {
     "data": {
      "text/html": [
       "<div>\n",
       "<style scoped>\n",
       "    .dataframe tbody tr th:only-of-type {\n",
       "        vertical-align: middle;\n",
       "    }\n",
       "\n",
       "    .dataframe tbody tr th {\n",
       "        vertical-align: top;\n",
       "    }\n",
       "\n",
       "    .dataframe thead th {\n",
       "        text-align: right;\n",
       "    }\n",
       "</style>\n",
       "<table border=\"1\" class=\"dataframe\">\n",
       "  <thead>\n",
       "    <tr style=\"text-align: right;\">\n",
       "      <th></th>\n",
       "      <th>ListingNumber</th>\n",
       "      <th>ListingCreationDate</th>\n",
       "      <th>Term</th>\n",
       "      <th>LoanStatus</th>\n",
       "      <th>BorrowerRate</th>\n",
       "      <th>ListingCategory</th>\n",
       "      <th>EmploymentStatus</th>\n",
       "      <th>EmploymentStatusDuration</th>\n",
       "      <th>IsBorrowerHomeowner</th>\n",
       "      <th>DebtToIncomeRatio</th>\n",
       "      <th>IncomeRange</th>\n",
       "      <th>CreditRating</th>\n",
       "    </tr>\n",
       "  </thead>\n",
       "  <tbody>\n",
       "    <tr>\n",
       "      <th>0</th>\n",
       "      <td>193129</td>\n",
       "      <td>2007-08-26 19:09:29.263</td>\n",
       "      <td>36</td>\n",
       "      <td>c_performing</td>\n",
       "      <td>0.1580</td>\n",
       "      <td>NaN</td>\n",
       "      <td>Self-employed</td>\n",
       "      <td>2.0</td>\n",
       "      <td>True</td>\n",
       "      <td>0.17</td>\n",
       "      <td>$25,000-49,999</td>\n",
       "      <td>C</td>\n",
       "    </tr>\n",
       "    <tr>\n",
       "      <th>1</th>\n",
       "      <td>1209647</td>\n",
       "      <td>2014-02-27 08:28:07.900</td>\n",
       "      <td>36</td>\n",
       "      <td>a_performing</td>\n",
       "      <td>0.0920</td>\n",
       "      <td>Home Improvement</td>\n",
       "      <td>Employed</td>\n",
       "      <td>44.0</td>\n",
       "      <td>False</td>\n",
       "      <td>0.18</td>\n",
       "      <td>$50,000-74,999</td>\n",
       "      <td>A</td>\n",
       "    </tr>\n",
       "    <tr>\n",
       "      <th>2</th>\n",
       "      <td>81716</td>\n",
       "      <td>2007-01-05 15:00:47.090</td>\n",
       "      <td>36</td>\n",
       "      <td>c_performing</td>\n",
       "      <td>0.2750</td>\n",
       "      <td>NaN</td>\n",
       "      <td>NaN</td>\n",
       "      <td>NaN</td>\n",
       "      <td>False</td>\n",
       "      <td>0.06</td>\n",
       "      <td>NaN</td>\n",
       "      <td>HR</td>\n",
       "    </tr>\n",
       "    <tr>\n",
       "      <th>3</th>\n",
       "      <td>658116</td>\n",
       "      <td>2012-10-22 11:02:35.010</td>\n",
       "      <td>36</td>\n",
       "      <td>a_performing</td>\n",
       "      <td>0.0974</td>\n",
       "      <td>Motorcycle</td>\n",
       "      <td>Employed</td>\n",
       "      <td>113.0</td>\n",
       "      <td>True</td>\n",
       "      <td>0.15</td>\n",
       "      <td>$25,000-49,999</td>\n",
       "      <td>A</td>\n",
       "    </tr>\n",
       "    <tr>\n",
       "      <th>4</th>\n",
       "      <td>909464</td>\n",
       "      <td>2013-09-14 18:38:39.097</td>\n",
       "      <td>36</td>\n",
       "      <td>a_performing</td>\n",
       "      <td>0.2085</td>\n",
       "      <td>Home Improvement</td>\n",
       "      <td>Employed</td>\n",
       "      <td>44.0</td>\n",
       "      <td>True</td>\n",
       "      <td>0.26</td>\n",
       "      <td>$100,000+</td>\n",
       "      <td>D</td>\n",
       "    </tr>\n",
       "  </tbody>\n",
       "</table>\n",
       "</div>"
      ],
      "text/plain": [
       "  ListingNumber     ListingCreationDate Term    LoanStatus  BorrowerRate  \\\n",
       "0        193129 2007-08-26 19:09:29.263   36  c_performing        0.1580   \n",
       "1       1209647 2014-02-27 08:28:07.900   36  a_performing        0.0920   \n",
       "2         81716 2007-01-05 15:00:47.090   36  c_performing        0.2750   \n",
       "3        658116 2012-10-22 11:02:35.010   36  a_performing        0.0974   \n",
       "4        909464 2013-09-14 18:38:39.097   36  a_performing        0.2085   \n",
       "\n",
       "    ListingCategory EmploymentStatus  EmploymentStatusDuration  \\\n",
       "0               NaN    Self-employed                       2.0   \n",
       "1  Home Improvement         Employed                      44.0   \n",
       "2               NaN              NaN                       NaN   \n",
       "3        Motorcycle         Employed                     113.0   \n",
       "4  Home Improvement         Employed                      44.0   \n",
       "\n",
       "   IsBorrowerHomeowner  DebtToIncomeRatio     IncomeRange CreditRating  \n",
       "0                 True               0.17  $25,000-49,999            C  \n",
       "1                False               0.18  $50,000-74,999            A  \n",
       "2                False               0.06             NaN           HR  \n",
       "3                 True               0.15  $25,000-49,999            A  \n",
       "4                 True               0.26       $100,000+            D  "
      ]
     },
     "execution_count": 36,
     "metadata": {},
     "output_type": "execute_result"
    }
   ],
   "source": [
    "df_final.head()"
   ]
  },
  {
   "cell_type": "markdown",
   "metadata": {},
   "source": [
    "Note regarding missing values: at this stage some of the variables have missing values, they will be accounted for individually as I progress towards bivariate and multivariate analysis. "
   ]
  },
  {
   "cell_type": "code",
   "execution_count": 37,
   "metadata": {},
   "outputs": [],
   "source": [
    "#saving final data frame to a csv file\n",
    "df_final.to_csv('ProsperLoanData_clean.csv', index=False, date_format='%s')"
   ]
  },
  {
   "cell_type": "markdown",
   "metadata": {},
   "source": [
    "## Univariate Exploration"
   ]
  },
  {
   "cell_type": "markdown",
   "metadata": {},
   "source": [
    "### Loan Status"
   ]
  },
  {
   "cell_type": "markdown",
   "metadata": {},
   "source": [
    "First let's have a look at the distribution of loans per loan status"
   ]
  },
  {
   "cell_type": "code",
   "execution_count": 38,
   "metadata": {},
   "outputs": [
    {
     "data": {
      "image/png": "[encoded data removed]",
      "text/plain": [
       "<Figure size 1440x360 with 2 Axes>"
      ]
     },
     "metadata": {
      "needs_background": "light"
     },
     "output_type": "display_data"
    }
   ],
   "source": [
    "#set palette for further analysis\n",
    "sb.set_palette(\"ch:start=.2,rot=-.3\")\n",
    "color = sb.color_palette()[2]\n",
    "\n",
    "plt.figure(figsize=[20,5])\n",
    "\n",
    "# generate barplot for the loan status variable\n",
    "plt.subplot(1, 2, 1)\n",
    "sb.countplot(data=df_final, x='LoanStatus', color = color)\n",
    "plt.xticks(rotation=30)\n",
    "sb.despine()\n",
    "plt.xlabel('loan status')\n",
    "plt.title('Number of loans per loan status')\n",
    "\n",
    "# print values above bars\n",
    "counts = df_final.LoanStatus.value_counts(sort=False)\n",
    "for i in range(counts.shape[0]):\n",
    "    count = counts.values[i]\n",
    "    plt.text(i, count+200, count, ha='center');\n",
    "\n",
    "plt.subplot(1, 2, 2)\n",
    "\n",
    "status_freq = df_final.LoanStatus.value_counts(sort=False, normalize=True)\n",
    "sb.barplot(x=status_freq.index.values, y=status_freq, color=color)\n",
    "plt.ylabel('frequency')\n",
    "plt.xlabel('loan status');\n",
    "plt.xticks(rotation=30)\n",
    "sb.despine(bottom = False, left = False)\n",
    "plt.title('Frequency of loan statuses')\n",
    "\n",
    "# print values above bars\n",
    "for i in range(status_freq.shape[0]):\n",
    "    freq = status_freq.values[i]\n",
    "    plt.text(i, freq+0.005, '{:0.1%}'.format(freq), ha='center');\n",
    "    "
   ]
  },
  {
   "cell_type": "markdown",
   "metadata": {},
   "source": [
    "Almost 50% of the loans in the dataset (56.5k) are in active_performing status, followed by ca. 34% of closed_performing (38.3k) and almost 15% of closed_nonperforming.\n",
    "\n",
    "The measure that is used to asess portfolio performance is colled delinquency rate. It is the share of delinquent loans in the total portfolio. In the following cells I will calculate and visualize this measure for both active and closed transactions as well as for the whole portfolio."
   ]
  },
  {
   "cell_type": "code",
   "execution_count": 39,
   "metadata": {},
   "outputs": [
    {
     "data": {
      "image/png": "[encoded data removed]",
      "text/plain": [
       "<Figure size 432x288 with 1 Axes>"
      ]
     },
     "metadata": {
      "needs_background": "light"
     },
     "output_type": "display_data"
    }
   ],
   "source": [
    "# calculate ratio of nonperforming to performing loans\n",
    "active_ratio = df_final[df_final.LoanStatus == 'a_nonperforming'].shape[0] / (df_final[df_final.LoanStatus == 'a_performing'].shape[0] +df_final[df_final.LoanStatus == 'a_nonperforming'].shape[0])\n",
    "closed_ratio = df_final[df_final.LoanStatus == 'c_nonperforming'].shape[0] / (df_final[df_final.LoanStatus == 'c_performing'].shape[0] + df_final[df_final.LoanStatus == 'c_nonperforming'].shape[0])\n",
    "portfolio_ratio = (df_final[df_final.LoanStatus == 'a_nonperforming'].shape[0] + df_final[df_final.LoanStatus == 'c_nonperforming'].shape[0]) / df_final.LoanStatus.count() \n",
    "\n",
    "#plot bar chart\n",
    "plt.bar(x=['active loans', 'closed loans', 'portfolio average'], height=[active_ratio, closed_ratio, portfolio_ratio], color=color)\n",
    "plt.text(0.04, active_ratio+0.005, '{:0.1%}'.format(active_ratio), ha='center')\n",
    "plt.text(1, closed_ratio+0.005, '{:0.1%}'.format(closed_ratio), ha='center')\n",
    "plt.text(2, portfolio_ratio+0.005, '{:0.1%}'.format(portfolio_ratio), ha='center')\n",
    "plt.ylabel('frequency')\n",
    "plt.xlabel('loan status')\n",
    "plt.title('Delinquency rate for active and closed loans')\n",
    "sb.despine();"
   ]
  },
  {
   "cell_type": "markdown",
   "metadata": {},
   "source": [
    "The average historical delinquency rate in the Prosper portfolio is relatively high at 16.7%.\n",
    "The fact that the ratio of nonperforming to performing is higher for the closed listings compared to active listings is intuitive. On the other hand the fact that as many as 30.8% of closed transactions were defaulted is surprising. This feature requires further analysis as there might be several explanations for this. One of the issues that definitely needs to be looked at in bivariate anlaysis is the time component - escpecially in terms how the delinquency rate developed over time and if we can recognize any patterns related to rating system delelopment. "
   ]
  },
  {
   "cell_type": "markdown",
   "metadata": {},
   "source": [
    "## Term\n",
    "The distribution of loans per term category is depicted below"
   ]
  },
  {
   "cell_type": "code",
   "execution_count": 40,
   "metadata": {},
   "outputs": [
    {
     "data": {
      "image/png": "[encoded data removed]",
      "text/plain": [
       "<Figure size 1440x360 with 2 Axes>"
      ]
     },
     "metadata": {
      "needs_background": "light"
     },
     "output_type": "display_data"
    }
   ],
   "source": [
    "# generate barplot for the loan term variable\n",
    "plt.figure(figsize=[20,5])\n",
    "\n",
    "plt.subplot(1, 2, 1)\n",
    "sb.countplot(data=df_final, x='Term', color = color)\n",
    "sb.despine()\n",
    "plt.xlabel('term')\n",
    "plt.title('Number of loans per term')\n",
    "\n",
    "# print values above bars\n",
    "counts = df_final.Term.value_counts(sort=False)\n",
    "for i in range(counts.shape[0]):\n",
    "    count = counts.values[i]\n",
    "    plt.text(i, count+200, count, ha='center');\n",
    "\n",
    "# generate barplot for the loan term frequency\n",
    "plt.subplot(1, 2, 2)\n",
    "\n",
    "term_freq = df_final.Term.value_counts(sort=False, normalize=True)\n",
    "sb.barplot(x=term_freq.index.values, y=term_freq, color=color)\n",
    "plt.ylabel('frequency')\n",
    "plt.xlabel('term')\n",
    "sb.despine()\n",
    "plt.title('Frequency of loans terms')\n",
    "\n",
    "# print values above bars\n",
    "for i in range(term_freq.shape[0]):\n",
    "    term = term_freq.values[i]\n",
    "    plt.text(i, term+0.005, '{:0.1%}'.format(term), ha='center');"
   ]
  },
  {
   "cell_type": "markdown",
   "metadata": {},
   "source": [
    "The majority of loans (77%) were 36 month loans, followed by 21,5% of 60 month loans and just 1,4% of 12 month loans."
   ]
  },
  {
   "cell_type": "markdown",
   "metadata": {},
   "source": [
    "## Borrower rate\n",
    "\n",
    "The following charts depict the histogram and the box plot of borrower rates. As the box plot indicates that there are several outliers above the upper bound of the interquartile range, limits were set the improve visibility of the histogram. Also as rate distribution is quite dense, the number of bins was increased for better visibility (tick=0,0125)."
   ]
  },
  {
   "cell_type": "code",
   "execution_count": 41,
   "metadata": {},
   "outputs": [
    {
     "data": {
      "image/png": "[encoded data removed]",
      "text/plain": [
       "<Figure size 432x288 with 1 Axes>"
      ]
     },
     "metadata": {
      "needs_background": "light"
     },
     "output_type": "display_data"
    }
   ],
   "source": [
    "# create histogram for borrower rates\n",
    "plt.hist(data=df_final, x='BorrowerRate', bins=np.arange(0, 0.5, 0.0125), color=color)\n",
    "plt.xlabel('borrower rate')\n",
    "plt.xticks(np.arange(0, 0.5, 0.05))\n",
    "plt.title('Distribution of borrower rates')\n",
    "plt.xlim(0,0.4)\n",
    "sb.despine();"
   ]
  },
  {
   "cell_type": "code",
   "execution_count": 42,
   "metadata": {},
   "outputs": [
    {
     "data": {
      "image/png": "[encoded data removed]",
      "text/plain": [
       "<Figure size 432x288 with 1 Axes>"
      ]
     },
     "metadata": {
      "needs_background": "light"
     },
     "output_type": "display_data"
    }
   ],
   "source": [
    "# create box plot of to inspect outliers\n",
    "sb.boxplot(data=df_final, x='BorrowerRate', color=color)\n",
    "plt.xlabel('borrower rate')\n",
    "plt.title('Distribution of borrower rates')\n",
    "sb.despine();"
   ]
  },
  {
   "cell_type": "markdown",
   "metadata": {},
   "source": [
    "The distribution fo borrower rates has a bimodal shape with most of the observations having a rate of approximately 13,75%-15% and 1 additional minor peak at 31,25% respectively.\n",
    "There are several outliers above the interquartile range and also some observations with borrower rates as low as 0. Let us inspect these a little closer."
   ]
  },
  {
   "cell_type": "code",
   "execution_count": 43,
   "metadata": {},
   "outputs": [
    {
     "data": {
      "text/html": [
       "<div>\n",
       "<style scoped>\n",
       "    .dataframe tbody tr th:only-of-type {\n",
       "        vertical-align: middle;\n",
       "    }\n",
       "\n",
       "    .dataframe tbody tr th {\n",
       "        vertical-align: top;\n",
       "    }\n",
       "\n",
       "    .dataframe thead th {\n",
       "        text-align: right;\n",
       "    }\n",
       "</style>\n",
       "<table border=\"1\" class=\"dataframe\">\n",
       "  <thead>\n",
       "    <tr style=\"text-align: right;\">\n",
       "      <th></th>\n",
       "      <th>ListingNumber</th>\n",
       "      <th>ListingCreationDate</th>\n",
       "      <th>Term</th>\n",
       "      <th>LoanStatus</th>\n",
       "      <th>BorrowerRate</th>\n",
       "      <th>ListingCategory</th>\n",
       "      <th>EmploymentStatus</th>\n",
       "      <th>EmploymentStatusDuration</th>\n",
       "      <th>IsBorrowerHomeowner</th>\n",
       "      <th>DebtToIncomeRatio</th>\n",
       "      <th>IncomeRange</th>\n",
       "      <th>CreditRating</th>\n",
       "    </tr>\n",
       "  </thead>\n",
       "  <tbody>\n",
       "    <tr>\n",
       "      <th>1484</th>\n",
       "      <td>69022</td>\n",
       "      <td>2006-12-01 10:04:58.993</td>\n",
       "      <td>36</td>\n",
       "      <td>c_performing</td>\n",
       "      <td>0.0100</td>\n",
       "      <td>NaN</td>\n",
       "      <td>NaN</td>\n",
       "      <td>NaN</td>\n",
       "      <td>False</td>\n",
       "      <td>0.20000</td>\n",
       "      <td>NaN</td>\n",
       "      <td>E</td>\n",
       "    </tr>\n",
       "    <tr>\n",
       "      <th>5823</th>\n",
       "      <td>156918</td>\n",
       "      <td>2007-06-23 10:32:34.540</td>\n",
       "      <td>36</td>\n",
       "      <td>c_performing</td>\n",
       "      <td>0.0115</td>\n",
       "      <td>NaN</td>\n",
       "      <td>Full-time</td>\n",
       "      <td>0.0</td>\n",
       "      <td>False</td>\n",
       "      <td>0.12000</td>\n",
       "      <td>$25,000-49,999</td>\n",
       "      <td>D</td>\n",
       "    </tr>\n",
       "    <tr>\n",
       "      <th>15993</th>\n",
       "      <td>246366</td>\n",
       "      <td>2007-12-07 08:09:25.833</td>\n",
       "      <td>36</td>\n",
       "      <td>c_nonperforming</td>\n",
       "      <td>0.0100</td>\n",
       "      <td>Debt Consolidation</td>\n",
       "      <td>Full-time</td>\n",
       "      <td>32.0</td>\n",
       "      <td>False</td>\n",
       "      <td>0.25000</td>\n",
       "      <td>$1-24,999</td>\n",
       "      <td>D</td>\n",
       "    </tr>\n",
       "    <tr>\n",
       "      <th>26650</th>\n",
       "      <td>49987</td>\n",
       "      <td>2006-10-18 11:51:32.590</td>\n",
       "      <td>36</td>\n",
       "      <td>c_nonperforming</td>\n",
       "      <td>0.0099</td>\n",
       "      <td>NaN</td>\n",
       "      <td>NaN</td>\n",
       "      <td>NaN</td>\n",
       "      <td>True</td>\n",
       "      <td>0.18000</td>\n",
       "      <td>NaN</td>\n",
       "      <td>HR</td>\n",
       "    </tr>\n",
       "    <tr>\n",
       "      <th>29859</th>\n",
       "      <td>34125</td>\n",
       "      <td>2006-08-25 11:10:06.193</td>\n",
       "      <td>36</td>\n",
       "      <td>c_performing</td>\n",
       "      <td>0.0000</td>\n",
       "      <td>NaN</td>\n",
       "      <td>NaN</td>\n",
       "      <td>NaN</td>\n",
       "      <td>True</td>\n",
       "      <td>0.07000</td>\n",
       "      <td>NaN</td>\n",
       "      <td>AA</td>\n",
       "    </tr>\n",
       "    <tr>\n",
       "      <th>33287</th>\n",
       "      <td>223827</td>\n",
       "      <td>2007-10-31 10:31:36.283</td>\n",
       "      <td>36</td>\n",
       "      <td>c_performing</td>\n",
       "      <td>0.0100</td>\n",
       "      <td>NaN</td>\n",
       "      <td>Full-time</td>\n",
       "      <td>50.0</td>\n",
       "      <td>False</td>\n",
       "      <td>0.27000</td>\n",
       "      <td>$25,000-49,999</td>\n",
       "      <td>C</td>\n",
       "    </tr>\n",
       "    <tr>\n",
       "      <th>37201</th>\n",
       "      <td>394526</td>\n",
       "      <td>2008-09-07 20:55:32.837</td>\n",
       "      <td>36</td>\n",
       "      <td>c_performing</td>\n",
       "      <td>0.0100</td>\n",
       "      <td>Student Use</td>\n",
       "      <td>Part-time</td>\n",
       "      <td>0.0</td>\n",
       "      <td>False</td>\n",
       "      <td>NaN</td>\n",
       "      <td>$1-24,999</td>\n",
       "      <td>E</td>\n",
       "    </tr>\n",
       "    <tr>\n",
       "      <th>38187</th>\n",
       "      <td>168141</td>\n",
       "      <td>2007-07-12 11:32:43.287</td>\n",
       "      <td>36</td>\n",
       "      <td>c_performing</td>\n",
       "      <td>0.0100</td>\n",
       "      <td>NaN</td>\n",
       "      <td>Not employed</td>\n",
       "      <td>125.0</td>\n",
       "      <td>False</td>\n",
       "      <td>NaN</td>\n",
       "      <td>$0</td>\n",
       "      <td>B</td>\n",
       "    </tr>\n",
       "    <tr>\n",
       "      <th>44713</th>\n",
       "      <td>2374</td>\n",
       "      <td>2006-03-18 13:34:16.420</td>\n",
       "      <td>36</td>\n",
       "      <td>c_performing</td>\n",
       "      <td>0.0100</td>\n",
       "      <td>NaN</td>\n",
       "      <td>NaN</td>\n",
       "      <td>NaN</td>\n",
       "      <td>False</td>\n",
       "      <td>0.00677</td>\n",
       "      <td>NaN</td>\n",
       "      <td>HR</td>\n",
       "    </tr>\n",
       "    <tr>\n",
       "      <th>46874</th>\n",
       "      <td>143562</td>\n",
       "      <td>2007-05-28 06:40:54.803</td>\n",
       "      <td>36</td>\n",
       "      <td>c_nonperforming</td>\n",
       "      <td>0.0000</td>\n",
       "      <td>NaN</td>\n",
       "      <td>Full-time</td>\n",
       "      <td>1.0</td>\n",
       "      <td>False</td>\n",
       "      <td>0.01000</td>\n",
       "      <td>$50,000-74,999</td>\n",
       "      <td>HR</td>\n",
       "    </tr>\n",
       "    <tr>\n",
       "      <th>50251</th>\n",
       "      <td>357197</td>\n",
       "      <td>2008-06-25 17:43:40.637</td>\n",
       "      <td>36</td>\n",
       "      <td>c_performing</td>\n",
       "      <td>0.0001</td>\n",
       "      <td>Debt Consolidation</td>\n",
       "      <td>Full-time</td>\n",
       "      <td>12.0</td>\n",
       "      <td>False</td>\n",
       "      <td>1.16000</td>\n",
       "      <td>$1-24,999</td>\n",
       "      <td>B</td>\n",
       "    </tr>\n",
       "    <tr>\n",
       "      <th>53423</th>\n",
       "      <td>216769</td>\n",
       "      <td>2007-10-16 12:22:08.443</td>\n",
       "      <td>36</td>\n",
       "      <td>c_performing</td>\n",
       "      <td>0.0005</td>\n",
       "      <td>NaN</td>\n",
       "      <td>Full-time</td>\n",
       "      <td>0.0</td>\n",
       "      <td>False</td>\n",
       "      <td>0.30000</td>\n",
       "      <td>$25,000-49,999</td>\n",
       "      <td>B</td>\n",
       "    </tr>\n",
       "    <tr>\n",
       "      <th>53558</th>\n",
       "      <td>47411</td>\n",
       "      <td>2006-10-12 06:03:03.183</td>\n",
       "      <td>36</td>\n",
       "      <td>c_nonperforming</td>\n",
       "      <td>0.0021</td>\n",
       "      <td>NaN</td>\n",
       "      <td>NaN</td>\n",
       "      <td>NaN</td>\n",
       "      <td>False</td>\n",
       "      <td>0.04000</td>\n",
       "      <td>NaN</td>\n",
       "      <td>HR</td>\n",
       "    </tr>\n",
       "    <tr>\n",
       "      <th>65259</th>\n",
       "      <td>310792</td>\n",
       "      <td>2008-04-15 05:35:10.670</td>\n",
       "      <td>36</td>\n",
       "      <td>c_performing</td>\n",
       "      <td>0.0000</td>\n",
       "      <td>Business</td>\n",
       "      <td>Full-time</td>\n",
       "      <td>13.0</td>\n",
       "      <td>False</td>\n",
       "      <td>0.13000</td>\n",
       "      <td>$25,000-49,999</td>\n",
       "      <td>HR</td>\n",
       "    </tr>\n",
       "    <tr>\n",
       "      <th>76035</th>\n",
       "      <td>155582</td>\n",
       "      <td>2007-06-20 19:15:28.250</td>\n",
       "      <td>36</td>\n",
       "      <td>c_performing</td>\n",
       "      <td>0.0100</td>\n",
       "      <td>NaN</td>\n",
       "      <td>Full-time</td>\n",
       "      <td>13.0</td>\n",
       "      <td>True</td>\n",
       "      <td>0.12000</td>\n",
       "      <td>$25,000-49,999</td>\n",
       "      <td>D</td>\n",
       "    </tr>\n",
       "    <tr>\n",
       "      <th>76858</th>\n",
       "      <td>115163</td>\n",
       "      <td>2007-03-24 10:03:30.717</td>\n",
       "      <td>36</td>\n",
       "      <td>c_performing</td>\n",
       "      <td>0.0000</td>\n",
       "      <td>NaN</td>\n",
       "      <td>Full-time</td>\n",
       "      <td>152.0</td>\n",
       "      <td>False</td>\n",
       "      <td>0.06000</td>\n",
       "      <td>$1-24,999</td>\n",
       "      <td>C</td>\n",
       "    </tr>\n",
       "    <tr>\n",
       "      <th>77776</th>\n",
       "      <td>201825</td>\n",
       "      <td>2007-09-14 12:52:43.347</td>\n",
       "      <td>36</td>\n",
       "      <td>c_performing</td>\n",
       "      <td>0.0050</td>\n",
       "      <td>NaN</td>\n",
       "      <td>Full-time</td>\n",
       "      <td>139.0</td>\n",
       "      <td>False</td>\n",
       "      <td>NaN</td>\n",
       "      <td>$0</td>\n",
       "      <td>C</td>\n",
       "    </tr>\n",
       "    <tr>\n",
       "      <th>78401</th>\n",
       "      <td>49783</td>\n",
       "      <td>2006-10-18 06:15:54.327</td>\n",
       "      <td>36</td>\n",
       "      <td>c_performing</td>\n",
       "      <td>0.0000</td>\n",
       "      <td>NaN</td>\n",
       "      <td>NaN</td>\n",
       "      <td>NaN</td>\n",
       "      <td>False</td>\n",
       "      <td>0.11000</td>\n",
       "      <td>NaN</td>\n",
       "      <td>D</td>\n",
       "    </tr>\n",
       "    <tr>\n",
       "      <th>78920</th>\n",
       "      <td>319969</td>\n",
       "      <td>2008-04-28 11:48:10.400</td>\n",
       "      <td>36</td>\n",
       "      <td>c_performing</td>\n",
       "      <td>0.0000</td>\n",
       "      <td>Debt Consolidation</td>\n",
       "      <td>Full-time</td>\n",
       "      <td>3.0</td>\n",
       "      <td>True</td>\n",
       "      <td>0.43000</td>\n",
       "      <td>$75,000-99,999</td>\n",
       "      <td>C</td>\n",
       "    </tr>\n",
       "    <tr>\n",
       "      <th>82880</th>\n",
       "      <td>150362</td>\n",
       "      <td>2007-06-11 13:26:07.323</td>\n",
       "      <td>36</td>\n",
       "      <td>c_performing</td>\n",
       "      <td>0.0100</td>\n",
       "      <td>NaN</td>\n",
       "      <td>Self-employed</td>\n",
       "      <td>24.0</td>\n",
       "      <td>False</td>\n",
       "      <td>10.01000</td>\n",
       "      <td>$1-24,999</td>\n",
       "      <td>D</td>\n",
       "    </tr>\n",
       "    <tr>\n",
       "      <th>86048</th>\n",
       "      <td>123273</td>\n",
       "      <td>2007-04-13 16:18:43.147</td>\n",
       "      <td>36</td>\n",
       "      <td>c_performing</td>\n",
       "      <td>0.0100</td>\n",
       "      <td>NaN</td>\n",
       "      <td>Part-time</td>\n",
       "      <td>18.0</td>\n",
       "      <td>False</td>\n",
       "      <td>10.01000</td>\n",
       "      <td>$1-24,999</td>\n",
       "      <td>E</td>\n",
       "    </tr>\n",
       "    <tr>\n",
       "      <th>90051</th>\n",
       "      <td>77055</td>\n",
       "      <td>2006-12-21 15:20:20.630</td>\n",
       "      <td>36</td>\n",
       "      <td>c_performing</td>\n",
       "      <td>0.0000</td>\n",
       "      <td>NaN</td>\n",
       "      <td>NaN</td>\n",
       "      <td>NaN</td>\n",
       "      <td>True</td>\n",
       "      <td>0.49000</td>\n",
       "      <td>NaN</td>\n",
       "      <td>HR</td>\n",
       "    </tr>\n",
       "    <tr>\n",
       "      <th>98696</th>\n",
       "      <td>167417</td>\n",
       "      <td>2007-07-11 10:48:43.050</td>\n",
       "      <td>36</td>\n",
       "      <td>c_performing</td>\n",
       "      <td>0.0100</td>\n",
       "      <td>NaN</td>\n",
       "      <td>Full-time</td>\n",
       "      <td>18.0</td>\n",
       "      <td>False</td>\n",
       "      <td>0.20000</td>\n",
       "      <td>$25,000-49,999</td>\n",
       "      <td>HR</td>\n",
       "    </tr>\n",
       "    <tr>\n",
       "      <th>105191</th>\n",
       "      <td>267017</td>\n",
       "      <td>2008-01-17 10:55:57.347</td>\n",
       "      <td>36</td>\n",
       "      <td>c_nonperforming</td>\n",
       "      <td>0.0100</td>\n",
       "      <td>Personal Loan</td>\n",
       "      <td>Self-employed</td>\n",
       "      <td>94.0</td>\n",
       "      <td>False</td>\n",
       "      <td>0.10000</td>\n",
       "      <td>$1-24,999</td>\n",
       "      <td>HR</td>\n",
       "    </tr>\n",
       "    <tr>\n",
       "      <th>112717</th>\n",
       "      <td>369381</td>\n",
       "      <td>2008-07-17 22:44:53.000</td>\n",
       "      <td>36</td>\n",
       "      <td>c_performing</td>\n",
       "      <td>0.0000</td>\n",
       "      <td>Other</td>\n",
       "      <td>Full-time</td>\n",
       "      <td>158.0</td>\n",
       "      <td>False</td>\n",
       "      <td>0.02000</td>\n",
       "      <td>$100,000+</td>\n",
       "      <td>A</td>\n",
       "    </tr>\n",
       "  </tbody>\n",
       "</table>\n",
       "</div>"
      ],
      "text/plain": [
       "       ListingNumber     ListingCreationDate Term       LoanStatus  \\\n",
       "1484           69022 2006-12-01 10:04:58.993   36     c_performing   \n",
       "5823          156918 2007-06-23 10:32:34.540   36     c_performing   \n",
       "15993         246366 2007-12-07 08:09:25.833   36  c_nonperforming   \n",
       "26650          49987 2006-10-18 11:51:32.590   36  c_nonperforming   \n",
       "29859          34125 2006-08-25 11:10:06.193   36     c_performing   \n",
       "33287         223827 2007-10-31 10:31:36.283   36     c_performing   \n",
       "37201         394526 2008-09-07 20:55:32.837   36     c_performing   \n",
       "38187         168141 2007-07-12 11:32:43.287   36     c_performing   \n",
       "44713           2374 2006-03-18 13:34:16.420   36     c_performing   \n",
       "46874         143562 2007-05-28 06:40:54.803   36  c_nonperforming   \n",
       "50251         357197 2008-06-25 17:43:40.637   36     c_performing   \n",
       "53423         216769 2007-10-16 12:22:08.443   36     c_performing   \n",
       "53558          47411 2006-10-12 06:03:03.183   36  c_nonperforming   \n",
       "65259         310792 2008-04-15 05:35:10.670   36     c_performing   \n",
       "76035         155582 2007-06-20 19:15:28.250   36     c_performing   \n",
       "76858         115163 2007-03-24 10:03:30.717   36     c_performing   \n",
       "77776         201825 2007-09-14 12:52:43.347   36     c_performing   \n",
       "78401          49783 2006-10-18 06:15:54.327   36     c_performing   \n",
       "78920         319969 2008-04-28 11:48:10.400   36     c_performing   \n",
       "82880         150362 2007-06-11 13:26:07.323   36     c_performing   \n",
       "86048         123273 2007-04-13 16:18:43.147   36     c_performing   \n",
       "90051          77055 2006-12-21 15:20:20.630   36     c_performing   \n",
       "98696         167417 2007-07-11 10:48:43.050   36     c_performing   \n",
       "105191        267017 2008-01-17 10:55:57.347   36  c_nonperforming   \n",
       "112717        369381 2008-07-17 22:44:53.000   36     c_performing   \n",
       "\n",
       "        BorrowerRate     ListingCategory EmploymentStatus  \\\n",
       "1484          0.0100                 NaN              NaN   \n",
       "5823          0.0115                 NaN        Full-time   \n",
       "15993         0.0100  Debt Consolidation        Full-time   \n",
       "26650         0.0099                 NaN              NaN   \n",
       "29859         0.0000                 NaN              NaN   \n",
       "33287         0.0100                 NaN        Full-time   \n",
       "37201         0.0100         Student Use        Part-time   \n",
       "38187         0.0100                 NaN     Not employed   \n",
       "44713         0.0100                 NaN              NaN   \n",
       "46874         0.0000                 NaN        Full-time   \n",
       "50251         0.0001  Debt Consolidation        Full-time   \n",
       "53423         0.0005                 NaN        Full-time   \n",
       "53558         0.0021                 NaN              NaN   \n",
       "65259         0.0000            Business        Full-time   \n",
       "76035         0.0100                 NaN        Full-time   \n",
       "76858         0.0000                 NaN        Full-time   \n",
       "77776         0.0050                 NaN        Full-time   \n",
       "78401         0.0000                 NaN              NaN   \n",
       "78920         0.0000  Debt Consolidation        Full-time   \n",
       "82880         0.0100                 NaN    Self-employed   \n",
       "86048         0.0100                 NaN        Part-time   \n",
       "90051         0.0000                 NaN              NaN   \n",
       "98696         0.0100                 NaN        Full-time   \n",
       "105191        0.0100       Personal Loan    Self-employed   \n",
       "112717        0.0000               Other        Full-time   \n",
       "\n",
       "        EmploymentStatusDuration  IsBorrowerHomeowner  DebtToIncomeRatio  \\\n",
       "1484                         NaN                False            0.20000   \n",
       "5823                         0.0                False            0.12000   \n",
       "15993                       32.0                False            0.25000   \n",
       "26650                        NaN                 True            0.18000   \n",
       "29859                        NaN                 True            0.07000   \n",
       "33287                       50.0                False            0.27000   \n",
       "37201                        0.0                False                NaN   \n",
       "38187                      125.0                False                NaN   \n",
       "44713                        NaN                False            0.00677   \n",
       "46874                        1.0                False            0.01000   \n",
       "50251                       12.0                False            1.16000   \n",
       "53423                        0.0                False            0.30000   \n",
       "53558                        NaN                False            0.04000   \n",
       "65259                       13.0                False            0.13000   \n",
       "76035                       13.0                 True            0.12000   \n",
       "76858                      152.0                False            0.06000   \n",
       "77776                      139.0                False                NaN   \n",
       "78401                        NaN                False            0.11000   \n",
       "78920                        3.0                 True            0.43000   \n",
       "82880                       24.0                False           10.01000   \n",
       "86048                       18.0                False           10.01000   \n",
       "90051                        NaN                 True            0.49000   \n",
       "98696                       18.0                False            0.20000   \n",
       "105191                      94.0                False            0.10000   \n",
       "112717                     158.0                False            0.02000   \n",
       "\n",
       "           IncomeRange CreditRating  \n",
       "1484               NaN            E  \n",
       "5823    $25,000-49,999            D  \n",
       "15993        $1-24,999            D  \n",
       "26650              NaN           HR  \n",
       "29859              NaN           AA  \n",
       "33287   $25,000-49,999            C  \n",
       "37201        $1-24,999            E  \n",
       "38187               $0            B  \n",
       "44713              NaN           HR  \n",
       "46874   $50,000-74,999           HR  \n",
       "50251        $1-24,999            B  \n",
       "53423   $25,000-49,999            B  \n",
       "53558              NaN           HR  \n",
       "65259   $25,000-49,999           HR  \n",
       "76035   $25,000-49,999            D  \n",
       "76858        $1-24,999            C  \n",
       "77776               $0            C  \n",
       "78401              NaN            D  \n",
       "78920   $75,000-99,999            C  \n",
       "82880        $1-24,999            D  \n",
       "86048        $1-24,999            E  \n",
       "90051              NaN           HR  \n",
       "98696   $25,000-49,999           HR  \n",
       "105191       $1-24,999           HR  \n",
       "112717       $100,000+            A  "
      ]
     },
     "execution_count": 43,
     "metadata": {},
     "output_type": "execute_result"
    }
   ],
   "source": [
    "mask = df_final[df_final.BorrowerRate.between(0, 0.0125)]\n",
    "mask"
   ]
  },
  {
   "cell_type": "code",
   "execution_count": 44,
   "metadata": {},
   "outputs": [
    {
     "name": "stdout",
     "output_type": "stream",
     "text": [
      "(25, 12)\n",
      "2006-03-18 13:34:16.420000 2008-09-07 20:55:32.837000\n"
     ]
    },
    {
     "data": {
      "text/plain": [
       "HR    8\n",
       "E     3\n",
       "D     5\n",
       "C     4\n",
       "B     3\n",
       "A     1\n",
       "AA    1\n",
       "Name: CreditRating, dtype: int64"
      ]
     },
     "execution_count": 44,
     "metadata": {},
     "output_type": "execute_result"
    }
   ],
   "source": [
    "print(mask.shape)\n",
    "print(mask.ListingCreationDate.min(), mask.ListingCreationDate.max())\n",
    "mask.CreditRating.value_counts(sort=False)"
   ]
  },
  {
   "cell_type": "markdown",
   "metadata": {},
   "source": [
    "There seems to be nor regularity with regards to the lowest borrower rates included in the dataset except for the fact that these are all relatively old (2006-2008) records for closed loans. However one would expect that if these borrowers were granted such favorable terms they should be in the highest credit rating category, while it is exactly the opposite - most of the records with lowest rates have ratings between HR and C with only 5 belonging to the 3 highest rating categories. As these extremely low rate loans are a relatively small group of 25 records and it seems likely that information on borrower rates might not be correct they should be excluded from the dataset for further analysis as they might distort the overall conclusions."
   ]
  },
  {
   "cell_type": "code",
   "execution_count": 45,
   "metadata": {},
   "outputs": [
    {
     "data": {
      "text/html": [
       "<div>\n",
       "<style scoped>\n",
       "    .dataframe tbody tr th:only-of-type {\n",
       "        vertical-align: middle;\n",
       "    }\n",
       "\n",
       "    .dataframe tbody tr th {\n",
       "        vertical-align: top;\n",
       "    }\n",
       "\n",
       "    .dataframe thead th {\n",
       "        text-align: right;\n",
       "    }\n",
       "</style>\n",
       "<table border=\"1\" class=\"dataframe\">\n",
       "  <thead>\n",
       "    <tr style=\"text-align: right;\">\n",
       "      <th></th>\n",
       "      <th>ListingNumber</th>\n",
       "      <th>ListingCreationDate</th>\n",
       "      <th>Term</th>\n",
       "      <th>LoanStatus</th>\n",
       "      <th>BorrowerRate</th>\n",
       "      <th>ListingCategory</th>\n",
       "      <th>EmploymentStatus</th>\n",
       "      <th>EmploymentStatusDuration</th>\n",
       "      <th>IsBorrowerHomeowner</th>\n",
       "      <th>DebtToIncomeRatio</th>\n",
       "      <th>IncomeRange</th>\n",
       "      <th>CreditRating</th>\n",
       "    </tr>\n",
       "  </thead>\n",
       "  <tbody>\n",
       "    <tr>\n",
       "      <th>14160</th>\n",
       "      <td>2372</td>\n",
       "      <td>2006-03-18 12:52:18.843</td>\n",
       "      <td>36</td>\n",
       "      <td>c_nonperforming</td>\n",
       "      <td>0.4000</td>\n",
       "      <td>NaN</td>\n",
       "      <td>NaN</td>\n",
       "      <td>NaN</td>\n",
       "      <td>False</td>\n",
       "      <td>0.18002</td>\n",
       "      <td>NaN</td>\n",
       "      <td>HR</td>\n",
       "    </tr>\n",
       "    <tr>\n",
       "      <th>18326</th>\n",
       "      <td>1795</td>\n",
       "      <td>2006-03-11 15:43:45.393</td>\n",
       "      <td>36</td>\n",
       "      <td>c_nonperforming</td>\n",
       "      <td>0.4500</td>\n",
       "      <td>NaN</td>\n",
       "      <td>NaN</td>\n",
       "      <td>NaN</td>\n",
       "      <td>False</td>\n",
       "      <td>0.10252</td>\n",
       "      <td>NaN</td>\n",
       "      <td>HR</td>\n",
       "    </tr>\n",
       "    <tr>\n",
       "      <th>22195</th>\n",
       "      <td>1849</td>\n",
       "      <td>2006-03-12 13:44:15.060</td>\n",
       "      <td>36</td>\n",
       "      <td>c_nonperforming</td>\n",
       "      <td>0.4500</td>\n",
       "      <td>NaN</td>\n",
       "      <td>NaN</td>\n",
       "      <td>NaN</td>\n",
       "      <td>False</td>\n",
       "      <td>0.35430</td>\n",
       "      <td>NaN</td>\n",
       "      <td>HR</td>\n",
       "    </tr>\n",
       "    <tr>\n",
       "      <th>36018</th>\n",
       "      <td>690</td>\n",
       "      <td>2006-02-23 13:57:02.087</td>\n",
       "      <td>36</td>\n",
       "      <td>c_performing</td>\n",
       "      <td>0.4975</td>\n",
       "      <td>NaN</td>\n",
       "      <td>NaN</td>\n",
       "      <td>NaN</td>\n",
       "      <td>False</td>\n",
       "      <td>0.02852</td>\n",
       "      <td>NaN</td>\n",
       "      <td>HR</td>\n",
       "    </tr>\n",
       "    <tr>\n",
       "      <th>56761</th>\n",
       "      <td>2231</td>\n",
       "      <td>2006-03-16 19:30:16.753</td>\n",
       "      <td>36</td>\n",
       "      <td>c_nonperforming</td>\n",
       "      <td>0.4975</td>\n",
       "      <td>NaN</td>\n",
       "      <td>NaN</td>\n",
       "      <td>NaN</td>\n",
       "      <td>False</td>\n",
       "      <td>0.03909</td>\n",
       "      <td>NaN</td>\n",
       "      <td>HR</td>\n",
       "    </tr>\n",
       "    <tr>\n",
       "      <th>82043</th>\n",
       "      <td>1112</td>\n",
       "      <td>2006-03-02 19:00:17.593</td>\n",
       "      <td>36</td>\n",
       "      <td>c_nonperforming</td>\n",
       "      <td>0.4800</td>\n",
       "      <td>NaN</td>\n",
       "      <td>NaN</td>\n",
       "      <td>NaN</td>\n",
       "      <td>False</td>\n",
       "      <td>0.10021</td>\n",
       "      <td>NaN</td>\n",
       "      <td>HR</td>\n",
       "    </tr>\n",
       "    <tr>\n",
       "      <th>95035</th>\n",
       "      <td>1798</td>\n",
       "      <td>2006-03-11 16:00:10.990</td>\n",
       "      <td>36</td>\n",
       "      <td>c_nonperforming</td>\n",
       "      <td>0.4000</td>\n",
       "      <td>NaN</td>\n",
       "      <td>NaN</td>\n",
       "      <td>NaN</td>\n",
       "      <td>False</td>\n",
       "      <td>0.10773</td>\n",
       "      <td>NaN</td>\n",
       "      <td>HR</td>\n",
       "    </tr>\n",
       "    <tr>\n",
       "      <th>103973</th>\n",
       "      <td>1366</td>\n",
       "      <td>2006-03-06 22:36:53.753</td>\n",
       "      <td>36</td>\n",
       "      <td>c_nonperforming</td>\n",
       "      <td>0.4500</td>\n",
       "      <td>NaN</td>\n",
       "      <td>NaN</td>\n",
       "      <td>NaN</td>\n",
       "      <td>False</td>\n",
       "      <td>0.19413</td>\n",
       "      <td>NaN</td>\n",
       "      <td>HR</td>\n",
       "    </tr>\n",
       "  </tbody>\n",
       "</table>\n",
       "</div>"
      ],
      "text/plain": [
       "       ListingNumber     ListingCreationDate Term       LoanStatus  \\\n",
       "14160           2372 2006-03-18 12:52:18.843   36  c_nonperforming   \n",
       "18326           1795 2006-03-11 15:43:45.393   36  c_nonperforming   \n",
       "22195           1849 2006-03-12 13:44:15.060   36  c_nonperforming   \n",
       "36018            690 2006-02-23 13:57:02.087   36     c_performing   \n",
       "56761           2231 2006-03-16 19:30:16.753   36  c_nonperforming   \n",
       "82043           1112 2006-03-02 19:00:17.593   36  c_nonperforming   \n",
       "95035           1798 2006-03-11 16:00:10.990   36  c_nonperforming   \n",
       "103973          1366 2006-03-06 22:36:53.753   36  c_nonperforming   \n",
       "\n",
       "        BorrowerRate ListingCategory EmploymentStatus  \\\n",
       "14160         0.4000             NaN              NaN   \n",
       "18326         0.4500             NaN              NaN   \n",
       "22195         0.4500             NaN              NaN   \n",
       "36018         0.4975             NaN              NaN   \n",
       "56761         0.4975             NaN              NaN   \n",
       "82043         0.4800             NaN              NaN   \n",
       "95035         0.4000             NaN              NaN   \n",
       "103973        0.4500             NaN              NaN   \n",
       "\n",
       "        EmploymentStatusDuration  IsBorrowerHomeowner  DebtToIncomeRatio  \\\n",
       "14160                        NaN                False            0.18002   \n",
       "18326                        NaN                False            0.10252   \n",
       "22195                        NaN                False            0.35430   \n",
       "36018                        NaN                False            0.02852   \n",
       "56761                        NaN                False            0.03909   \n",
       "82043                        NaN                False            0.10021   \n",
       "95035                        NaN                False            0.10773   \n",
       "103973                       NaN                False            0.19413   \n",
       "\n",
       "       IncomeRange CreditRating  \n",
       "14160          NaN           HR  \n",
       "18326          NaN           HR  \n",
       "22195          NaN           HR  \n",
       "36018          NaN           HR  \n",
       "56761          NaN           HR  \n",
       "82043          NaN           HR  \n",
       "95035          NaN           HR  \n",
       "103973         NaN           HR  "
      ]
     },
     "execution_count": 45,
     "metadata": {},
     "output_type": "execute_result"
    }
   ],
   "source": [
    "mask2 = df_final[df_final.BorrowerRate.between(0.4, 0.5)]\n",
    "mask2"
   ]
  },
  {
   "cell_type": "code",
   "execution_count": 46,
   "metadata": {},
   "outputs": [
    {
     "name": "stdout",
     "output_type": "stream",
     "text": [
      "(8, 12)\n",
      "2006-02-23 13:57:02.087000 2006-03-18 12:52:18.843000\n"
     ]
    },
    {
     "data": {
      "text/plain": [
       "HR    8\n",
       "E     0\n",
       "D     0\n",
       "C     0\n",
       "B     0\n",
       "A     0\n",
       "AA    0\n",
       "Name: CreditRating, dtype: int64"
      ]
     },
     "execution_count": 46,
     "metadata": {},
     "output_type": "execute_result"
    }
   ],
   "source": [
    "print(mask2.shape)\n",
    "print(mask2.ListingCreationDate.min(), mask2.ListingCreationDate.max())\n",
    "mask2.CreditRating.value_counts(sort=False)"
   ]
  },
  {
   "cell_type": "markdown",
   "metadata": {},
   "source": [
    "On the other side of the extreme we observe loans with borrower rates as high as 40%-50%.\n",
    "This subset however is consistent with what could be expected - all of the 8 records have credit rating HR and all except one belong to the nonperforming category. Also these loans were all originated in 2006.  \n",
    "However as these several extreme observations could impact the results of further analysis I also recommend to remove them from the dataset."
   ]
  },
  {
   "cell_type": "code",
   "execution_count": 47,
   "metadata": {},
   "outputs": [],
   "source": [
    "#drop rows with rates meeting criteria spec. above\n",
    "df_final.drop(index=mask.index, inplace=True)\n",
    "df_final.drop(index=mask2.index, inplace=True)\n",
    "\n",
    "#check\n",
    "assert df_final[df_final.BorrowerRate.between(0, 0.0125)].shape[0] + df_final[df_final.BorrowerRate.between(0.4, 0.5)].shape[0] == 0"
   ]
  },
  {
   "cell_type": "code",
   "execution_count": null,
   "metadata": {},
   "outputs": [],
   "source": []
  },
  {
   "cell_type": "markdown",
   "metadata": {},
   "source": [
    "## Listing Category\n",
    "\n",
    "Now let's take a look at the distribution of loans across Listing Categories. This variable has a significant amount of NaN values - almost 17k records, i.e. 15% of all observations have missing data and also there are 20 different categories, which makes it potentially difficult to make meaningful conclusions based on this variable."
   ]
  },
  {
   "cell_type": "code",
   "execution_count": 48,
   "metadata": {},
   "outputs": [
    {
     "data": {
      "image/png": "[encoded data removed]",
      "text/plain": [
       "<Figure size 432x288 with 1 Axes>"
      ]
     },
     "metadata": {
      "needs_background": "light"
     },
     "output_type": "display_data"
    }
   ],
   "source": [
    "# create a barchart for Listing Category\n",
    "\n",
    "countp = sb.countplot(data=df_final, x='ListingCategory', color=color)\n",
    "plt.xticks(rotation=90)\n",
    "\n",
    "# set a different color for 4 most frequent categories\n",
    "color2 = sb.color_palette()[4]\n",
    "height = df_final.ListingCategory.value_counts()[3]\n",
    "\n",
    "for bar in countp.patches:\n",
    "    if bar.get_height() >= height:\n",
    "        bar.set_color(color2);"
   ]
  },
  {
   "cell_type": "markdown",
   "metadata": {},
   "source": [
    "Debt consolidation with a count of almost 60k observations is by far the most popular listing category making up 60% of the loan portfolio. The remaining observations are dispersed between all of the other categories with the only ones worth mentioning being home imporovement (ca. 7,7% of observations) and Business (7,4%). As such the categories without any further aggregation will not be particularily useful for futher analysis, however we could compare delinquencies for debt consolidations and other categories (aggregated to one 'Other' bucket) to see if there are any patterns related to the fact that debt consolidation imples that the borrower already had a significant amount of debt before assuming the prosper loan."
   ]
  },
  {
   "cell_type": "code",
   "execution_count": 49,
   "metadata": {},
   "outputs": [
    {
     "data": {
      "text/plain": [
       "Debt Consolidation    58304\n",
       "Other                 55595\n",
       "Name: ListingCategory, dtype: int64"
      ]
     },
     "execution_count": 49,
     "metadata": {},
     "output_type": "execute_result"
    }
   ],
   "source": [
    "#replace values other than Debt consolidation with 'Other'\n",
    "df_final.ListingCategory = df_final.ListingCategory.apply(lambda x: x if x == 'Debt Consolidation' else 'Other')\n",
    "    \n",
    "# check updated statuse value counts\n",
    "df_final.ListingCategory.value_counts()"
   ]
  },
  {
   "cell_type": "markdown",
   "metadata": {},
   "source": [
    "## Employment Status and Employment Status Duration"
   ]
  },
  {
   "cell_type": "code",
   "execution_count": 50,
   "metadata": {},
   "outputs": [
    {
     "data": {
      "image/png": "[encoded data removed]",
      "text/plain": [
       "<Figure size 432x288 with 1 Axes>"
      ]
     },
     "metadata": {
      "needs_background": "light"
     },
     "output_type": "display_data"
    }
   ],
   "source": [
    "#plot barplot for employment status variable\n",
    "\n",
    "sb.countplot(data=df_final, x='EmploymentStatus', color=color, order=df_final.EmploymentStatus.value_counts().index)\n",
    "sb.despine()\n",
    "plt.xticks(rotation=45)\n",
    "plt.xlabel('employment status')\n",
    "plt.title('Number of loans per borrower employment status');"
   ]
  },
  {
   "cell_type": "markdown",
   "metadata": {},
   "source": [
    "Majority of the borrowers had either \"Employed\" (67.3k) or \"Full-time\" (26.3k) employment status, both these categories accounted for 88% of the observations in data set. That being the case it will be difficult to observe any meaningful relationships between occupation type and loan delinquency as other categories will not have enough observations for analysis."
   ]
  },
  {
   "cell_type": "code",
   "execution_count": 51,
   "metadata": {},
   "outputs": [
    {
     "data": {
      "image/png": "[encoded data removed]",
      "text/plain": [
       "<Figure size 432x288 with 1 Axes>"
      ]
     },
     "metadata": {
      "needs_background": "light"
     },
     "output_type": "display_data"
    }
   ],
   "source": [
    "#plot histogram for employment status duration variable\n",
    "\n",
    "plt.hist(data=df_final, x='EmploymentStatusDuration', color=color, bins=np.arange(0,800,24));\n",
    "sb.despine()\n",
    "plt.xticks(np.arange(0,800,24), rotation=45)\n",
    "plt.xlabel('employment status duration [months]')\n",
    "plt.title('Distribution of loans per employment duration')\n",
    "plt.xlim(0,400);"
   ]
  },
  {
   "cell_type": "code",
   "execution_count": 52,
   "metadata": {},
   "outputs": [
    {
     "data": {
      "image/png": "[encoded data removed]",
      "text/plain": [
       "<Figure size 432x288 with 1 Axes>"
      ]
     },
     "metadata": {
      "needs_background": "light"
     },
     "output_type": "display_data"
    }
   ],
   "source": [
    "# plot boxplot for employment status duration variable\n",
    "sb.boxplot(data=df_final, y='EmploymentStatusDuration', color=color);"
   ]
  },
  {
   "cell_type": "markdown",
   "metadata": {},
   "source": [
    "The distribution of employment status duration is right skewed with a very thin and long tail of observations above the interquartile range. I would have expected employment duration to be more normally distributed, however the distribution of this particular variable might be something unique to the Prosper borrowers as this type of peer-to-peer borrowing probably attracts especially (1) young people (2) people with lesses chance of obtaining favorable loan conditions at traditional banks due to poorer scoring (which might relate to shorter emplyment history)."
   ]
  },
  {
   "cell_type": "markdown",
   "metadata": {},
   "source": [
    "## Is Borrower Homeowner\n",
    "\n",
    "It is also interesting to see whether we can recognize any relationship between the borrower being a homeowner (or not) and loan performance. This will be further explored in the bivariate analysis section and for now let us see if there are enough observations in both categories to conduct this analysis."
   ]
  },
  {
   "cell_type": "code",
   "execution_count": 53,
   "metadata": {},
   "outputs": [
    {
     "data": {
      "image/png": "[encoded data removed]",
      "text/plain": [
       "<Figure size 432x288 with 1 Axes>"
      ]
     },
     "metadata": {
      "needs_background": "light"
     },
     "output_type": "display_data"
    }
   ],
   "source": [
    "sb.countplot(data=df_final, x='IsBorrowerHomeowner', color=color)\n",
    "sb.despine()\n",
    "plt.xlabel('Is borrower homeowner?');"
   ]
  },
  {
   "cell_type": "markdown",
   "metadata": {},
   "source": [
    "Interestingly allocation of observations to both 'Homeowner' categories is almost equal."
   ]
  },
  {
   "cell_type": "markdown",
   "metadata": {},
   "source": [
    "## Debt to Income Ratio"
   ]
  },
  {
   "cell_type": "code",
   "execution_count": 54,
   "metadata": {},
   "outputs": [
    {
     "data": {
      "image/png": "[encoded data removed]",
      "text/plain": [
       "<Figure size 432x288 with 1 Axes>"
      ]
     },
     "metadata": {
      "needs_background": "light"
     },
     "output_type": "display_data"
    }
   ],
   "source": [
    "#plot histogram for debt to income ratio variable\n",
    "\n",
    "plt.hist(data=df_final, x='DebtToIncomeRatio', color=color, bins=np.arange(0, 1, 0.05));\n",
    "sb.despine()\n",
    "plt.xticks(np.arange(0, 1, 0.10))\n",
    "plt.xlabel('debt to income ratio')\n",
    "plt.title('Distribution of loans per debt to income ratio')\n",
    "plt.xlim(0,1);"
   ]
  },
  {
   "cell_type": "markdown",
   "metadata": {},
   "source": [
    "This distribution is extremely skewed with a lot of observations above the upper limit of the interquartile range. Logarithmic transformation did not improve visibility as the positive tail was too long for this transformation to be sufficient.\n",
    "Therefore after checking the distribution and outliers on the boxplot a limit was set at 1 as this is the level at which it can be expected that a borrower is highly likely to have trouble servicing ist debt - debt to income ratio of 1 means that this borrowers obligations exceeded his/her income (the upper limit of the interquartile range is 0.6). Additionaly custom bins were introcuded with a tick of 0.05.\n",
    "After these changes it can be observed that most of the observations fall in the range between 0.10 and 0.25."
   ]
  },
  {
   "cell_type": "code",
   "execution_count": 55,
   "metadata": {},
   "outputs": [
    {
     "data": {
      "image/png": "[encoded data removed]",
      "text/plain": [
       "<Figure size 432x288 with 1 Axes>"
      ]
     },
     "metadata": {
      "needs_background": "light"
     },
     "output_type": "display_data"
    }
   ],
   "source": [
    "# plot boxplot for employment status duration variable\n",
    "sb.boxplot(data=df_final, x='DebtToIncomeRatio', color=color);"
   ]
  },
  {
   "cell_type": "code",
   "execution_count": 56,
   "metadata": {},
   "outputs": [
    {
     "data": {
      "text/plain": [
       "0.5900000000000001"
      ]
     },
     "execution_count": 56,
     "metadata": {},
     "output_type": "execute_result"
    }
   ],
   "source": [
    "Q1 = df_final.DebtToIncomeRatio.quantile(0.25)\n",
    "Q3 = df_final.DebtToIncomeRatio.quantile(0.75)\n",
    "IQR = Q3 - Q1\n",
    "upper_bound = Q3 + 1.5*IQR\n",
    "upper_bound"
   ]
  },
  {
   "cell_type": "markdown",
   "metadata": {},
   "source": [
    "## Income Range"
   ]
  },
  {
   "cell_type": "code",
   "execution_count": 57,
   "metadata": {},
   "outputs": [
    {
     "data": {
      "text/plain": [
       "$25,000-49,999    32185\n",
       "$50,000-74,999    31049\n",
       "$100,000+         17336\n",
       "$75,000-99,999    16915\n",
       "$1-24,999          7267\n",
       "$0                 1425\n",
       "Name: IncomeRange, dtype: int64"
      ]
     },
     "execution_count": 57,
     "metadata": {},
     "output_type": "execute_result"
    }
   ],
   "source": [
    "df_final.IncomeRange.value_counts()"
   ]
  },
  {
   "cell_type": "code",
   "execution_count": 58,
   "metadata": {},
   "outputs": [
    {
     "data": {
      "image/png": "[encoded data removed]",
      "text/plain": [
       "<Figure size 432x288 with 1 Axes>"
      ]
     },
     "metadata": {
      "needs_background": "light"
     },
     "output_type": "display_data"
    }
   ],
   "source": [
    "# create bar chart for Icome Range\n",
    "sb.countplot(data=df_final, x='IncomeRange', color=color)\n",
    "sb.despine()\n",
    "plt.xticks(rotation=70)\n",
    "plt.xlabel('income range')\n",
    "plt.title('Number of loans per income range category');"
   ]
  },
  {
   "cell_type": "markdown",
   "metadata": {},
   "source": [
    "Most of the borrowers are either in the 25-49kUSD or 50-74kUSD range (32k and 31k respectively). Logically there have been very few borrowers with no or very low income. Similarily people whose income exceeded 75kUSD seem to be less likely to use Prosper's services."
   ]
  },
  {
   "cell_type": "markdown",
   "metadata": {},
   "source": [
    "## Credit Rating    "
   ]
  },
  {
   "cell_type": "code",
   "execution_count": 59,
   "metadata": {},
   "outputs": [
    {
     "data": {
      "text/plain": [
       "C     23989\n",
       "B     19967\n",
       "D     19422\n",
       "A     17864\n",
       "E     13081\n",
       "HR    10424\n",
       "AA     8880\n",
       "Name: CreditRating, dtype: int64"
      ]
     },
     "execution_count": 59,
     "metadata": {},
     "output_type": "execute_result"
    }
   ],
   "source": [
    "df_final.CreditRating.value_counts()"
   ]
  },
  {
   "cell_type": "code",
   "execution_count": 60,
   "metadata": {},
   "outputs": [
    {
     "data": {
      "image/png": "[encoded data removed]",
      "text/plain": [
       "<Figure size 432x288 with 1 Axes>"
      ]
     },
     "metadata": {
      "needs_background": "light"
     },
     "output_type": "display_data"
    }
   ],
   "source": [
    "sb.countplot(data=df_final, x='CreditRating', color=color)\n",
    "sb.despine()\n",
    "plt.xlabel('credit rating')\n",
    "plt.title('Number of loans per credit rating category');"
   ]
  },
  {
   "cell_type": "markdown",
   "metadata": {},
   "source": [
    "As expected the most frequently occuring ratings are the ones in the middle of the rating scale, as low ratings probably get rejected more often and borrowers with good ratings tend to use other, less expensive sources of financing."
   ]
  },
  {
   "cell_type": "markdown",
   "metadata": {},
   "source": [
    "### Discuss the distribution(s) of your variable(s) of interest. Were there any unusual points? Did you need to perform any transformations?\n",
    "\n",
    "1. A new measure of delinquency rate was introduced (ratio of nonperforming  to all listings) - the average historical delinquency rate in the Prosper portfolio is relatively high at 16.7% and even higher for the closed transactions (30,8%).\n",
    "2. Borrower rates - the distribution fo borrower rates has a bimodal shape with most of the observations having a rate of approximately 13,75% and 1 additional minor peak at 31,25%, which is a surprisingly high value. The dataset included observations with borrower rates as low as 0% and a high as 50%, so additional analysis was performed to determine if these values should be kept in the data set.\n",
    "3. Debt consolidation with a count of almost 60k observations is by far the most popular listing category making up 60% of the loan portfolio.\n",
    "4. The distribution of employment status duration is right skewed with most of the borrowers having a short employment history.\n",
    "5. Debt to income ratio - most of the observations have a DtIR between 0.1-0.25, however the distribution had a very long positive tail with some of the values being as high as 10.\n",
    "6. A general conclusion is that a typical Prospect borrower would be someone with relatively short employment history, with annual income between 25-75k USD and a credit rating between B-D. Approximately 50% of Prosper borrowers were homeowners and most loans had a tenor of 36 months. \n",
    "\n",
    "### Of the features you investigated, were there any unusual distributions? Did you perform any operations on the data to tidy, adjust, or change the form of the data? If so, why did you do this?\n",
    "\n",
    "There were several cleaning steps performed on the data as described in the data cleaning section (most importandly the loan status category was redefined).\n",
    "As a result of the univariate exploration of data the following additional changes were implemented:\n",
    "\n",
    "1. Borrower rates - outliers, i.e. observations with extremely low (0-0.0125) and extremenly high (0.4-0.5) borrower rates were excluded from the data frame not to distort further analysis and to impreve visibility.\n",
    "\n",
    "2. Listing Category  - as majority of the observations (60%) is in the debt consolidation category other categories will be aggregated to one 'Other' category to see if there are any patterns related to the fact that debt consolidation implies that the borrower already had a significant amount of debt before assuming the prosper loan."
   ]
  },
  {
   "cell_type": "markdown",
   "metadata": {},
   "source": [
    "## Bivariate Exploration"
   ]
  },
  {
   "cell_type": "markdown",
   "metadata": {},
   "source": [
    "### Loan status vs. Loan features"
   ]
  },
  {
   "cell_type": "markdown",
   "metadata": {},
   "source": [
    "In this section I will plot and analyze pairwise relationships between loan status categories and loan feature categories."
   ]
  },
  {
   "cell_type": "markdown",
   "metadata": {},
   "source": [
    "#### Loan Status vs Term"
   ]
  },
  {
   "cell_type": "markdown",
   "metadata": {},
   "source": [
    "First of all let's see if there are any patterns related to Loan Status and Loan Term."
   ]
  },
  {
   "cell_type": "code",
   "execution_count": 61,
   "metadata": {},
   "outputs": [
    {
     "name": "stderr",
     "output_type": "stream",
     "text": [
      "C:\\Users\\plesi\\anaconda3\\lib\\site-packages\\seaborn\\axisgrid.py:645: UserWarning: Using the countplot function without specifying `order` is likely to produce an incorrect plot.\n",
      "  warnings.warn(warning)\n"
     ]
    },
    {
     "data": {
      "image/png": "[encoded data removed]",
      "text/plain": [
       "<Figure size 648x216 with 3 Axes>"
      ]
     },
     "metadata": {
      "needs_background": "light"
     },
     "output_type": "display_data"
    }
   ],
   "source": [
    "# create facet grid with loan status frequencies per loan term\n",
    "g = sb.FacetGrid(data=df_final, col='Term')\n",
    "g.map(sb.countplot, 'LoanStatus', color=color)\n",
    "g.set_xticklabels(rotation=30)\n",
    "g.fig.suptitle('Loan status count per Term category', y=1.05);"
   ]
  },
  {
   "cell_type": "markdown",
   "metadata": {},
   "source": [
    "Below a heatmap is plotted with relative frequencies of each loan status per Term category (values sum up to 100 across terms)"
   ]
  },
  {
   "cell_type": "code",
   "execution_count": 62,
   "metadata": {},
   "outputs": [
    {
     "data": {
      "image/png": "[encoded data removed]",
      "text/plain": [
       "<Figure size 432x288 with 2 Axes>"
      ]
     },
     "metadata": {
      "needs_background": "light"
     },
     "output_type": "display_data"
    }
   ],
   "source": [
    "# create df with frequencies of each loan status per term category\n",
    "df_LvT = df_final.groupby('Term')['LoanStatus'].value_counts(normalize=True)\n",
    "df_LvT = df_LvT.reset_index(name='count')\n",
    "df_LvT = df_LvT.pivot(index='LoanStatus', columns='Term', values='count')\n",
    "#plot heatmap\n",
    "sb.heatmap(df_LvT, annot=True, cmap=\"crest\", alpha=0.8, fmt=\".1%\");"
   ]
  },
  {
   "cell_type": "markdown",
   "metadata": {},
   "source": [
    "Because of a relatively small number of records in the 12 and 60 month category it is difficult to interpret the visuals only based on barcharts. Therefore a heatmap with relative frequencies was created to allow for comparison between categories.  \n",
    "Interestingly it seems that even though the 12m category has a very good structure in terms of its share of delinquent loans (only 5% of closed loans were nonperforming) it seems to be almost discontinued, as it's share of performing observations is only 4,4%.  \n",
    "The 60m category on the other hand does not have many observations in the closed categories (only 15% of the total nr of loans), and seemingly has a very good structure in terms of performance (82% of the total portfolio are active_performing and in total 92% are performing loans). However this might be attributed to the fact that this portfolio is relatively new and has a large share of new loans (i'll check it while performing the timecomponent analysis).\n",
    "Still, this feature looks promising in terms of its value as a predictor of loan delinquency."
   ]
  },
  {
   "cell_type": "markdown",
   "metadata": {},
   "source": [
    "#### Loan status vs Borrower Rate"
   ]
  },
  {
   "cell_type": "code",
   "execution_count": 63,
   "metadata": {},
   "outputs": [
    {
     "data": {
      "image/png": "[encoded data removed]",
      "text/plain": [
       "<Figure size 432x288 with 1 Axes>"
      ]
     },
     "metadata": {
      "needs_background": "light"
     },
     "output_type": "display_data"
    }
   ],
   "source": [
    "# plot boxplots for Loan status vs Borrower Rate\n",
    "sb.boxplot(data=df_final, x='LoanStatus', y='BorrowerRate', color=color)\n",
    "sb.despine()\n",
    "plt.xlabel('loan status')\n",
    "plt.ylabel('borrower rate')\n",
    "plt.title('Borrower rate distribution per loan status category');"
   ]
  },
  {
   "cell_type": "markdown",
   "metadata": {},
   "source": [
    "As expected the median borrower rates for nonperforming loan statuses are higher than those of performing loan statuses.\n",
    "It is interesting that the closed categories have a wider interquartile range than the active categories, which might indicate that Prosper changed its rate policy over time."
   ]
  },
  {
   "cell_type": "markdown",
   "metadata": {},
   "source": [
    "#### Loan status vs Listing category"
   ]
  },
  {
   "cell_type": "code",
   "execution_count": 64,
   "metadata": {},
   "outputs": [
    {
     "data": {
      "image/png": "[encoded data removed]",
      "text/plain": [
       "<Figure size 576x360 with 2 Axes>"
      ]
     },
     "metadata": {
      "needs_background": "light"
     },
     "output_type": "display_data"
    }
   ],
   "source": [
    "# create df with frequencies of each loan status per listing category\n",
    "df_LvT = df_final.groupby('ListingCategory')['LoanStatus'].value_counts(normalize=True)\n",
    "df_LvT = df_LvT.reset_index(name='count')\n",
    "df_LvT = df_LvT.pivot(index='LoanStatus', columns='ListingCategory', values='count')\n",
    "#plot heatmap\n",
    "plt.figure(figsize=[8,5])\n",
    "sb.heatmap(df_LvT, annot=True, cmap=\"crest\", alpha=0.8, fmt=\".1%\");"
   ]
  },
  {
   "cell_type": "markdown",
   "metadata": {},
   "source": [
    "It looks like Debt consolidation - contrary to my initial assumptions, has a better structure in terms of performance compared to the other listing categories (grouped in one bucket). While 90 % of debt consolidation listings belong to performing categories, compared to 76% among other loans. However this heatmap also shows that the share of active transactions is much higher for this category, therefore this feature would have to observed more closely in the long run."
   ]
  },
  {
   "cell_type": "markdown",
   "metadata": {},
   "source": [
    "### Loan status vs. Borrower features"
   ]
  },
  {
   "cell_type": "markdown",
   "metadata": {},
   "source": [
    "#### Loan status vs. Credit rating"
   ]
  },
  {
   "cell_type": "markdown",
   "metadata": {},
   "source": [
    "Below a heatmap is plotted with relative frequencies of each loan status per credit rating category (values sum up to 100 across credit ratings)"
   ]
  },
  {
   "cell_type": "code",
   "execution_count": 65,
   "metadata": {},
   "outputs": [
    {
     "data": {
      "image/png": "[encoded data removed]",
      "text/plain": [
       "<Figure size 576x360 with 2 Axes>"
      ]
     },
     "metadata": {
      "needs_background": "light"
     },
     "output_type": "display_data"
    }
   ],
   "source": [
    "# create df with frequencies of each loan status per credit rating\n",
    "df_LvT = df_final.groupby('CreditRating')['LoanStatus'].value_counts(normalize=True)\n",
    "df_LvT = df_LvT.reset_index(name='count')\n",
    "df_LvT = df_LvT.pivot(index='LoanStatus', columns='CreditRating', values='count')\n",
    "#plot heatmap\n",
    "plt.figure(figsize=[8,5])\n",
    "sb.heatmap(df_LvT, annot=True, cmap=\"crest\", alpha=0.8, fmt=\".1%\");"
   ]
  },
  {
   "cell_type": "markdown",
   "metadata": {},
   "source": [
    "As could be expected the way the structure of loan statuses changes across credit ratings is related to rating being more (or less) positive.\n",
    "This is especially visible for closed nonperforming loans - with the highest share of closed nonperforming for rating HR(34%) and lowest for A and AA ratings (~7%).\n",
    "There are some irregularities however - if we look at the share of active / closed performing loans across ratings C-A a structural shift towards more active loans is visible, which could indicate that Prosper recently grew a lot in this segment of the loan market. "
   ]
  },
  {
   "cell_type": "markdown",
   "metadata": {},
   "source": [
    "#### Loan status vs. Employment status duration"
   ]
  },
  {
   "cell_type": "code",
   "execution_count": 66,
   "metadata": {},
   "outputs": [
    {
     "data": {
      "image/png": "[encoded data removed]",
      "text/plain": [
       "<Figure size 432x288 with 1 Axes>"
      ]
     },
     "metadata": {
      "needs_background": "light"
     },
     "output_type": "display_data"
    }
   ],
   "source": [
    "# plot boxplots for Loan status vs Employment status duration\n",
    "sb.boxplot(data=df_final, x='LoanStatus', y='EmploymentStatusDuration', color=color)\n",
    "sb.despine()\n",
    "plt.xlabel('loan status')\n",
    "plt.ylabel('employment status duration')\n",
    "plt.title('Employment status distribution per loan status category')\n",
    "plt.ylim(0,400);"
   ]
  },
  {
   "cell_type": "code",
   "execution_count": 67,
   "metadata": {},
   "outputs": [
    {
     "data": {
      "text/plain": [
       "LoanStatus\n",
       "a_performing       80.0\n",
       "a_nonperforming    69.0\n",
       "c_performing       53.0\n",
       "c_nonperforming    51.0\n",
       "Name: EmploymentStatusDuration, dtype: float64"
      ]
     },
     "execution_count": 67,
     "metadata": {},
     "output_type": "execute_result"
    }
   ],
   "source": [
    "df_final.groupby('LoanStatus')['EmploymentStatusDuration'].agg('median')"
   ]
  },
  {
   "cell_type": "markdown",
   "metadata": {},
   "source": [
    "As could be expected within the active loans categories the performing  have a slighly higher median employment status value and a higher upper IQR limit. Interestingly the same is not true for the closed categories. Here the median for both performing and nonperforming loans is almost identical being 53 months for performing and 51 months for nonperforming. Is seems that this borrower feature will not be particularily relevant for predicting future loan delinquency. Also worth noting is that for the active loans the median employment status duration is higher than for the closed loans, especially when whe look at the active performing category (80 months)"
   ]
  },
  {
   "cell_type": "markdown",
   "metadata": {},
   "source": [
    "#### Loan status vs. Homeowner status"
   ]
  },
  {
   "cell_type": "code",
   "execution_count": 68,
   "metadata": {},
   "outputs": [
    {
     "data": {
      "image/png": "[encoded data removed]",
      "text/plain": [
       "<Figure size 576x360 with 2 Axes>"
      ]
     },
     "metadata": {
      "needs_background": "light"
     },
     "output_type": "display_data"
    }
   ],
   "source": [
    "# create df with frequencies of each loan status per credit rating\n",
    "df_LvT = df_final.groupby('IsBorrowerHomeowner')['LoanStatus'].value_counts(normalize=True)\n",
    "df_LvT = df_LvT.reset_index(name='count')\n",
    "df_LvT = df_LvT.pivot(index='LoanStatus', columns='IsBorrowerHomeowner', values='count')\n",
    "#plot heatmap\n",
    "plt.figure(figsize=[8,5])\n",
    "sb.heatmap(df_LvT, annot=True, cmap=\"crest\", alpha=0.8, fmt=\".1%\");"
   ]
  },
  {
   "cell_type": "markdown",
   "metadata": {},
   "source": [
    "As for the fact of borrower being a homeowner or not the share of delinquent closed loans is slightly lower for homeowners (15%) as compared with non-homewners (18.5%). The major takeaway however is that homewoners tend to have more active listings than non-homeowners. Again, this might be a result of Propsers credit policy to favor such borrowers."
   ]
  },
  {
   "cell_type": "markdown",
   "metadata": {},
   "source": [
    "#### Loan status vs. Debt to income ratio"
   ]
  },
  {
   "cell_type": "code",
   "execution_count": 69,
   "metadata": {},
   "outputs": [
    {
     "data": {
      "image/png": "[encoded data removed]",
      "text/plain": [
       "<Figure size 432x288 with 1 Axes>"
      ]
     },
     "metadata": {
      "needs_background": "light"
     },
     "output_type": "display_data"
    }
   ],
   "source": [
    "# plot boxplots for Loan status vs Employment status duration\n",
    "sb.boxplot(data=df_final, x='LoanStatus', y='DebtToIncomeRatio', color=color)\n",
    "sb.despine()\n",
    "plt.xlabel('loan status')\n",
    "plt.ylabel('Debt To Income Ratio')\n",
    "plt.title('Debt To Income Ratio distribution per loan status category')\n",
    "plt.ylim(0,0.8);"
   ]
  },
  {
   "cell_type": "code",
   "execution_count": 70,
   "metadata": {},
   "outputs": [
    {
     "data": {
      "text/plain": [
       "LoanStatus\n",
       "a_performing       0.23\n",
       "a_nonperforming    0.23\n",
       "c_performing       0.19\n",
       "c_nonperforming    0.22\n",
       "Name: DebtToIncomeRatio, dtype: float64"
      ]
     },
     "execution_count": 70,
     "metadata": {},
     "output_type": "execute_result"
    }
   ],
   "source": [
    "df_final.groupby('LoanStatus')['DebtToIncomeRatio'].agg('median')"
   ]
  },
  {
   "cell_type": "markdown",
   "metadata": {},
   "source": [
    "The distribution of debt to income ratio (DIR) for performing and nonperforming loans is very similar for active listings - with both categories having median DIR of 0.23.  \n",
    "Among closed listings however the median DIR is lower for performing (0.19) than for nonperforming (0.22) loans.\n",
    "In both cases the nonperforming categories have a wider Interquartile range than performing categories. "
   ]
  },
  {
   "cell_type": "markdown",
   "metadata": {},
   "source": [
    "#### Loan status vs. Income range"
   ]
  },
  {
   "cell_type": "code",
   "execution_count": 71,
   "metadata": {},
   "outputs": [
    {
     "data": {
      "image/png": "[encoded data removed]",
      "text/plain": [
       "<Figure size 576x360 with 2 Axes>"
      ]
     },
     "metadata": {
      "needs_background": "light"
     },
     "output_type": "display_data"
    }
   ],
   "source": [
    "# create df with frequencies of each loan status per credit rating\n",
    "df_LvT = df_final.groupby('IncomeRange')['LoanStatus'].value_counts(normalize=True)\n",
    "df_LvT = df_LvT.reset_index(name='count')\n",
    "df_LvT = df_LvT.pivot(index='LoanStatus', columns='IncomeRange', values='count')\n",
    "#plot heatmap\n",
    "plt.figure(figsize=[8,5])\n",
    "sb.heatmap(df_LvT, annot=True, cmap=\"crest\", alpha=0.8, fmt=\".1%\");"
   ]
  },
  {
   "cell_type": "markdown",
   "metadata": {},
   "source": [
    "As could be expected for the active listings the share of performing loans increases with income range and the share of nonperforming loans decreaseses (however marginally) with income range.\n",
    "An interesing thing however can be observed for the closed listings - here both the share of performing and nonperforming loans decrease with increase of rating. This counterintuitive conclusion is only due to the shift in Prosper portfolio structure - towards more medium and high range income earners. The ratio of delinquent loans for closed listings decreases (as expected) gradually from 0.39 for the lowest income range to 0.21 for the highest income range. "
   ]
  },
  {
   "cell_type": "code",
   "execution_count": 72,
   "metadata": {},
   "outputs": [
    {
     "data": {
      "text/plain": [
       "array([0.39050126, 0.36282146, 0.33300807, 0.27319438, 0.2363945 ,\n",
       "       0.21095723])"
      ]
     },
     "execution_count": 72,
     "metadata": {},
     "output_type": "execute_result"
    }
   ],
   "source": [
    "# do wycięcia!!!\n",
    "perf = np.array([0.486316, 0.401404, 0.339723, 0.301008, 0.291989, 0.278323])\n",
    "non = np.array([0.311579, 0.228567, 0.169613, 0.113144, 0.090393, 0.074412])\n",
    "share = non / (perf + non)\n",
    "share"
   ]
  },
  {
   "cell_type": "code",
   "execution_count": 73,
   "metadata": {},
   "outputs": [
    {
     "data": {
      "image/png": "[encoded data removed]",
      "text/plain": [
       "<Figure size 432x288 with 1 Axes>"
      ]
     },
     "metadata": {
      "needs_background": "light"
     },
     "output_type": "display_data"
    }
   ],
   "source": [
    "# plot average borrower rate for each origination year\n",
    "df_re = df_final.copy()\n",
    "df_re.index = df_re.ListingCreationDate\n",
    "plot = df_re[['BorrowerRate']].resample('Y').agg('mean').plot(kind='bar', color=color, legend=False)\n",
    "locs, labels = plt.xticks()\n",
    "labels = np.arange(2005, 2015, 1)\n",
    "plt.xticks(locs, labels)\n",
    "plt.xlabel('')\n",
    "plt.title('Average borrower rate per origination year');"
   ]
  },
  {
   "cell_type": "markdown",
   "metadata": {},
   "source": [
    "Average borrower rates were in the range between 17.5 and 20% until 2010 when they increased above 20% for the first time. The highest average borrower rate was recorded for listings originated in 2011 and then it decreased steadily over the following years."
   ]
  },
  {
   "cell_type": "markdown",
   "metadata": {},
   "source": [
    "#### Delinquency rate over time"
   ]
  },
  {
   "cell_type": "code",
   "execution_count": 74,
   "metadata": {},
   "outputs": [],
   "source": [
    "#group data by listing year and loan status\n",
    "annual_counts = pd.DataFrame(df_final.groupby(pd.Grouper(freq='Y', key='ListingCreationDate'))['LoanStatus'].value_counts()\n",
    "                             .reset_index(name='count'))\n",
    "# extract year of creation\n",
    "annual_counts.ListingCreationDate = annual_counts.ListingCreationDate.astype('str').str[0:4]"
   ]
  },
  {
   "cell_type": "code",
   "execution_count": 75,
   "metadata": {},
   "outputs": [],
   "source": [
    "# calculate delinquency rates for portfolio, closed listings and active listings and prepare df for visualization\n",
    "ac_pivot = pd.DataFrame(annual_counts.pivot(index='ListingCreationDate', columns='LoanStatus', values='count'))\n",
    "ac_pivot.columns = ac_pivot.columns.astype(str)\n",
    "ac_pivot.replace(np.nan, 0, inplace=True)\n",
    "ac_pivot['delinquency_rate'] = ac_pivot.apply(lambda row: (row.a_nonperforming + row.c_nonperforming) / row.sum(), axis=1)\n",
    "ac_pivot['active_delinquency_rate'] = ac_pivot.apply(lambda row: row.a_nonperforming / (row.a_nonperforming + row.a_performing + 0.0001), axis=1)\n",
    "ac_pivot['closed_delinquency_rate'] = ac_pivot.apply(lambda row: row.c_nonperforming / (row.c_nonperforming + row.c_performing), axis=1)\n",
    "\n",
    "#drop unnecessary columns\n",
    "ac_pivot.drop(columns=['a_performing', 'a_nonperforming', 'c_performing', 'c_nonperforming'], inplace=True)\n",
    "ac_pivot.reset_index(inplace=True)"
   ]
  },
  {
   "cell_type": "code",
   "execution_count": 76,
   "metadata": {},
   "outputs": [
    {
     "data": {
      "image/png": "[encoded data removed]",
      "text/plain": [
       "<Figure size 864x576 with 3 Axes>"
      ]
     },
     "metadata": {
      "needs_background": "light"
     },
     "output_type": "display_data"
    }
   ],
   "source": [
    "# generate barplot for delinquency rates\n",
    "plt.figure(figsize=[12,8])\n",
    "\n",
    "#average delinquency rate\n",
    "plt1 = plt.subplot(3, 1, 1)\n",
    "sb.barplot(x=\"ListingCreationDate\", y=\"delinquency_rate\", data=ac_pivot, color=color)\n",
    "plt.title('Delinquency rates across Years (by listing creation)')\n",
    "plt.xlabel('')\n",
    "plt.ylabel('Average')\n",
    "\n",
    "# acive del rate\n",
    "plt2 = plt.subplot(3, 1, 2)\n",
    "sb.barplot(x=\"ListingCreationDate\", y=\"closed_delinquency_rate\", data=ac_pivot, color=color)\n",
    "plt.ylabel('Closed')\n",
    "plt.xlabel('')\n",
    "plt.ylim(plt1.get_ylim())\n",
    "\n",
    "#closed del rate\n",
    "plt3 = plt.subplot(3, 1, 3)\n",
    "sb.barplot(x=\"ListingCreationDate\", y=\"active_delinquency_rate\", data=ac_pivot, color=color)\n",
    "sb.despine()\n",
    "plt.ylabel('Active');\n",
    "plt.ylim(plt1.get_ylim());\n"
   ]
  },
  {
   "cell_type": "markdown",
   "metadata": {},
   "source": [
    "As we can see in the above figure there are clear time-related trends visible for the Prosper portfolio in terms of delinquency rates. 2005 should be disregarded as it is not representative due to a very small number of records.\n",
    "However we can see clearly that between 2006-2007 the delinquency rate for the Prosper portfolio was extremely high (almost 40%). As most Propsper listings have a term of 36 months there are no active listings available and Closed deals parameter equals the average portfolio value.\n",
    "In 2009 however the delinquency rate improved drastically (this is the year when Prosper introduced its own rating system) and oscillated around 17-22% for the total portfolio and 17%-32% for the closed deals.\n",
    "The final 2 years depicted in the above figure will also not be representative, as most of the Prosper deals mature after 36months, so data still includes active listings, that until final repayment can still turn out both ways.\n",
    "It seems however, that the implementation of its proprietary rating system and the shifts in its loan and borrower structure, that we observed in the previous points of analysis improved Prospers portfolio quality."
   ]
  },
  {
   "cell_type": "code",
   "execution_count": 77,
   "metadata": {},
   "outputs": [
    {
     "data": {
      "text/html": [
       "<div>\n",
       "<style scoped>\n",
       "    .dataframe tbody tr th:only-of-type {\n",
       "        vertical-align: middle;\n",
       "    }\n",
       "\n",
       "    .dataframe tbody tr th {\n",
       "        vertical-align: top;\n",
       "    }\n",
       "\n",
       "    .dataframe thead th {\n",
       "        text-align: right;\n",
       "    }\n",
       "</style>\n",
       "<table border=\"1\" class=\"dataframe\">\n",
       "  <thead>\n",
       "    <tr style=\"text-align: right;\">\n",
       "      <th>LoanStatus</th>\n",
       "      <th>ListingCreationDate</th>\n",
       "      <th>delinquency_rate</th>\n",
       "      <th>active_delinquency_rate</th>\n",
       "      <th>closed_delinquency_rate</th>\n",
       "    </tr>\n",
       "  </thead>\n",
       "  <tbody>\n",
       "    <tr>\n",
       "      <th>0</th>\n",
       "      <td>2005</td>\n",
       "      <td>0.000000</td>\n",
       "      <td>0.000000</td>\n",
       "      <td>0.000000</td>\n",
       "    </tr>\n",
       "    <tr>\n",
       "      <th>1</th>\n",
       "      <td>2006</td>\n",
       "      <td>0.395383</td>\n",
       "      <td>0.000000</td>\n",
       "      <td>0.395383</td>\n",
       "    </tr>\n",
       "    <tr>\n",
       "      <th>2</th>\n",
       "      <td>2007</td>\n",
       "      <td>0.390992</td>\n",
       "      <td>0.000000</td>\n",
       "      <td>0.390992</td>\n",
       "    </tr>\n",
       "    <tr>\n",
       "      <th>3</th>\n",
       "      <td>2008</td>\n",
       "      <td>0.327914</td>\n",
       "      <td>0.000000</td>\n",
       "      <td>0.327914</td>\n",
       "    </tr>\n",
       "    <tr>\n",
       "      <th>4</th>\n",
       "      <td>2009</td>\n",
       "      <td>0.152312</td>\n",
       "      <td>0.000000</td>\n",
       "      <td>0.152312</td>\n",
       "    </tr>\n",
       "    <tr>\n",
       "      <th>5</th>\n",
       "      <td>2010</td>\n",
       "      <td>0.168897</td>\n",
       "      <td>0.268292</td>\n",
       "      <td>0.168154</td>\n",
       "    </tr>\n",
       "    <tr>\n",
       "      <th>6</th>\n",
       "      <td>2011</td>\n",
       "      <td>0.217182</td>\n",
       "      <td>0.080292</td>\n",
       "      <td>0.282578</td>\n",
       "    </tr>\n",
       "    <tr>\n",
       "      <th>7</th>\n",
       "      <td>2012</td>\n",
       "      <td>0.177541</td>\n",
       "      <td>0.076863</td>\n",
       "      <td>0.320114</td>\n",
       "    </tr>\n",
       "    <tr>\n",
       "      <th>8</th>\n",
       "      <td>2013</td>\n",
       "      <td>0.033123</td>\n",
       "      <td>0.025968</td>\n",
       "      <td>0.121877</td>\n",
       "    </tr>\n",
       "    <tr>\n",
       "      <th>9</th>\n",
       "      <td>2014</td>\n",
       "      <td>0.001025</td>\n",
       "      <td>0.001032</td>\n",
       "      <td>0.000000</td>\n",
       "    </tr>\n",
       "  </tbody>\n",
       "</table>\n",
       "</div>"
      ],
      "text/plain": [
       "LoanStatus ListingCreationDate  delinquency_rate  active_delinquency_rate  \\\n",
       "0                         2005          0.000000                 0.000000   \n",
       "1                         2006          0.395383                 0.000000   \n",
       "2                         2007          0.390992                 0.000000   \n",
       "3                         2008          0.327914                 0.000000   \n",
       "4                         2009          0.152312                 0.000000   \n",
       "5                         2010          0.168897                 0.268292   \n",
       "6                         2011          0.217182                 0.080292   \n",
       "7                         2012          0.177541                 0.076863   \n",
       "8                         2013          0.033123                 0.025968   \n",
       "9                         2014          0.001025                 0.001032   \n",
       "\n",
       "LoanStatus  closed_delinquency_rate  \n",
       "0                          0.000000  \n",
       "1                          0.395383  \n",
       "2                          0.390992  \n",
       "3                          0.327914  \n",
       "4                          0.152312  \n",
       "5                          0.168154  \n",
       "6                          0.282578  \n",
       "7                          0.320114  \n",
       "8                          0.121877  \n",
       "9                          0.000000  "
      ]
     },
     "execution_count": 77,
     "metadata": {},
     "output_type": "execute_result"
    }
   ],
   "source": [
    "ac_pivot"
   ]
  },
  {
   "cell_type": "markdown",
   "metadata": {},
   "source": [
    "#### Borrower rate vs. credit rating"
   ]
  },
  {
   "cell_type": "code",
   "execution_count": 78,
   "metadata": {},
   "outputs": [
    {
     "data": {
      "image/png": "[encoded data removed]",
      "text/plain": [
       "<Figure size 432x288 with 1 Axes>"
      ]
     },
     "metadata": {
      "needs_background": "light"
     },
     "output_type": "display_data"
    }
   ],
   "source": [
    "# plot boxplots for Loan status vs Employment status duration\n",
    "sb.boxplot(data=df_final, x='CreditRating', y='BorrowerRate', color=color)\n",
    "sb.despine()\n",
    "plt.xlabel('Borrower rating')\n",
    "plt.ylabel('Borrower rate')\n",
    "plt.title('Borrower rate per rating category');"
   ]
  },
  {
   "cell_type": "markdown",
   "metadata": {},
   "source": [
    "As expected there is a strong correlation between the borrower's rating category and average rate of the loan."
   ]
  },
  {
   "cell_type": "markdown",
   "metadata": {},
   "source": [
    "#### Correlation matrix"
   ]
  },
  {
   "cell_type": "code",
   "execution_count": 79,
   "metadata": {},
   "outputs": [],
   "source": [
    "# add additional year column and remove year 2005 as not representative\n",
    "df_final['Year'] = df_final['ListingCreationDate'].dt.year\n",
    "df_final = df_final.loc[~df_final.Year.isin(['2005'])]"
   ]
  },
  {
   "cell_type": "code",
   "execution_count": 80,
   "metadata": {},
   "outputs": [
    {
     "data": {
      "image/png": "[encoded data removed]",
      "text/plain": [
       "<Figure size 432x288 with 2 Axes>"
      ]
     },
     "metadata": {
      "needs_background": "light"
     },
     "output_type": "display_data"
    }
   ],
   "source": [
    "# plot heatmap of correlations between variables\n",
    "sb.heatmap(df_final.corr(), annot=True, fmt='.2f', center=0, cmap='crest');"
   ]
  },
  {
   "cell_type": "markdown",
   "metadata": {},
   "source": [
    "As many of the features were categorical the correlation matrix does not include many of the interesting variables. Also there are no significant correlations between the listed variables noticeable."
   ]
  },
  {
   "cell_type": "markdown",
   "metadata": {},
   "source": [
    "### Talk about some of the relationships you observed in this part of the investigation. How did the feature(s) of interest vary with other features in the dataset?\n",
    "\n",
    "* Loan Term - even though the 12m category has a very good structure in terms of its share of delinquent loans (only 5% of closed loans were nonperforming) it seems to be almost discontinued, as it's share of performing observations is only 4,4%.\n",
    "The 60m category on the other hand does not have many observations in the closed categories (only 15% of the total nr of loans), and seemingly has a very good structure in terms of performance (82% of the total portfolio are active_performing and in total 92% are performing loans).\n",
    "\n",
    "* Borrower rate - as expected the median borrower rates for nonperforming loan statuses are higher than those of performing loan statuses\n",
    "\n",
    "* Listing Category - Debt consolidation has a better structure in terms of performance compared to the other listing categories (grouped in one bucket).\n",
    "\n",
    "* Credit Rating - as could be expected the way the structure of loan statuses changes across credit ratings is related to rating being more (or less) positive. This is especially visible for closed nonperforming loans - with the highest share of closed nonperforming for rating HR (34%) and lowest for A and AA ratings (~7%).\n",
    "\n",
    "*  Employment status duration - within the active loans categories the performing  have a slighly higher median employment status value and a higher upper IQR limit. Interestingly the same is not true for the closed categories. Here the median for both performing and nonperforming loans is almost identical being 53 months for performing and 51 months for nonperforming.\n",
    "\n",
    "* Homeowner status - as for the fact of borrower being a homeowner or not the share of delinquent closed loans is slightly lower for homeowners (15%) as compared with non-homewners (18.5%)\n",
    "\n",
    "* Debt to Income Ratio - The distribution of debt to income ratio (DIR) for performing and nonperforming loans is very similar for active listings - with both categories having median DIR of 0.23. Among closed listings however the median DIR is lower for performing (0.19) than for nonperforming (0.22) loans.\n",
    "\n",
    "* Income range - as could be expected the share of performing loans increases with income range and the share of nonperforming loans decreaseses (however marginally) with income range.\n",
    "\n",
    "### Did you observe any interesting relationships between the other features (not the main feature(s) of interest)?\n",
    "\n",
    "* Delinquency rate over time - between 2006-2007 the delinquency rate for the Prosper portfolio was extremely high (almost 40%). In 2009 however the delinquency rate improved drastically (this is the year when Prosper introduced its own rating system) and oscillated around 17-22% for the total portfolio and 17%-32% for the closed deals.\n",
    "\n",
    "* there is a strong correlation between the borrower's rating category and average rate of the loan."
   ]
  },
  {
   "cell_type": "markdown",
   "metadata": {},
   "source": [
    "## Multivariate Exploration"
   ]
  },
  {
   "cell_type": "markdown",
   "metadata": {},
   "source": [
    "#### Borrower Rate vs loan status per listing creation year"
   ]
  },
  {
   "cell_type": "code",
   "execution_count": 81,
   "metadata": {},
   "outputs": [
    {
     "name": "stderr",
     "output_type": "stream",
     "text": [
      "C:\\Users\\plesi\\anaconda3\\lib\\site-packages\\seaborn\\axisgrid.py:645: UserWarning: Using the barplot function without specifying `order` is likely to produce an incorrect plot.\n",
      "  warnings.warn(warning)\n"
     ]
    },
    {
     "data": {
      "image/png": "[encoded data removed]",
      "text/plain": [
       "<Figure size 648x648 with 9 Axes>"
      ]
     },
     "metadata": {
      "needs_background": "light"
     },
     "output_type": "display_data"
    }
   ],
   "source": [
    "# plot facet grid to depict the relationship between borrower rate, listing creation date and loan category\n",
    "                       \n",
    "g1 = sb.FacetGrid(data=df_final, col='Year', col_wrap=3)\n",
    "g1.map(sb.barplot, 'BorrowerRate', 'LoanStatus', color=color)\n",
    "g1.fig.suptitle('Borrower rate per Loan status per listing year', y=1.05);\n"
   ]
  },
  {
   "cell_type": "markdown",
   "metadata": {},
   "source": [
    "As expected we can observe that borrower rates have been consistently lower for the performing categories as compared to nonperforming categories throughout the years. Also there is a general increase in borrower rates in 2013 and 2015 and then they start to decrease."
   ]
  },
  {
   "cell_type": "markdown",
   "metadata": {},
   "source": [
    "#### Loan term vs loan status per listing creation year"
   ]
  },
  {
   "cell_type": "code",
   "execution_count": 82,
   "metadata": {},
   "outputs": [
    {
     "data": {
      "image/png": "[encoded data removed]",
      "text/plain": [
       "<Figure size 769.25x648 with 9 Axes>"
      ]
     },
     "metadata": {
      "needs_background": "light"
     },
     "output_type": "display_data"
    }
   ],
   "source": [
    "# define wrap up function for countplot to use in facet\n",
    "def countplot(x, hue, **kwargs):\n",
    "    sb.countplot(x=x, hue=hue, **kwargs)\n",
    "\n",
    "# create facet grid with plots\n",
    "g1 = sb.FacetGrid(data=df_final, col='Year', col_wrap=3)\n",
    "fig = g1.map(countplot, 'Term', 'LoanStatus', palette='crest', alpha=0.8)\n",
    "g1.fig.suptitle('Loan term per Loan status per listing year', y=1.05)\n",
    "fig.add_legend();"
   ]
  },
  {
   "cell_type": "markdown",
   "metadata": {},
   "source": [
    "We can see clearly that the structure of the prosper portfolio changed over time - since 2014 the 60-month term loans were introduced and they start to be a significant part of the portfolio. The figure above also confirms that number of delinquent loans decreased over time, however as a lof of loans have been originated in 2013 and 2014 this has to further observed."
   ]
  },
  {
   "cell_type": "code",
   "execution_count": 83,
   "metadata": {},
   "outputs": [
    {
     "data": {
      "text/plain": [
       "2013    13739\n",
       "2012     6294\n",
       "2014     3371\n",
       "2011     1098\n",
       "2010       43\n",
       "Name: Year, dtype: int64"
      ]
     },
     "execution_count": 83,
     "metadata": {},
     "output_type": "execute_result"
    }
   ],
   "source": [
    "df_final[df_final['Term'] == 60]['Year'].value_counts()"
   ]
  },
  {
   "cell_type": "markdown",
   "metadata": {},
   "source": [
    "#### Listing Category vs Term per loan status"
   ]
  },
  {
   "cell_type": "code",
   "execution_count": 1090,
   "metadata": {},
   "outputs": [
    {
     "data": {
      "image/png": "[encoded data removed]",
      "text/plain": [
       "<Figure size 563x432 with 4 Axes>"
      ]
     },
     "metadata": {
      "needs_background": "light"
     },
     "output_type": "display_data"
    }
   ],
   "source": [
    "# create facet grid with plots\n",
    "g2 = sb.FacetGrid(data=df_final, col='LoanStatus', col_wrap=2)\n",
    "fig = g2.map(countplot, 'Term', 'ListingCategory', palette='crest', alpha=0.8)\n",
    "g2.fig.suptitle('Listing category per Loan term per loan status', y=1.05)\n",
    "fig.add_legend();"
   ]
  },
  {
   "cell_type": "markdown",
   "metadata": {},
   "source": [
    "Looking at the performing categories it is clearly visibe that the 60-month loans start to make up a large share of Propsers portfolio with most of the loans being in the Debt Consolidation category.\n",
    "If we compare closed performing and nonperforming loans for the 36 month category (most representative) it is clear that the share of Debt Consolidation in the 36 month closed nonperforming is lower than for the closed performing.\n",
    "Also looking at the active portfolio for both 36 and 60 month loans we can clearly see, that even though the count of active performing loans im much higher for Debt consolidation, the number of nonperforming listings are almost equal (or even lower) for this category and other purpose loans."
   ]
  },
  {
   "cell_type": "markdown",
   "metadata": {},
   "source": [
    "#### Employment duration vs Income Range per Loan Status"
   ]
  },
  {
   "cell_type": "code",
   "execution_count": 1091,
   "metadata": {},
   "outputs": [
    {
     "name": "stderr",
     "output_type": "stream",
     "text": [
      "C:\\Users\\plesi\\anaconda3\\lib\\site-packages\\seaborn\\axisgrid.py:645: UserWarning: Using the barplot function without specifying `order` is likely to produce an incorrect plot.\n",
      "  warnings.warn(warning)\n"
     ]
    },
    {
     "data": {
      "image/png": "[encoded data removed]",
      "text/plain": [
       "<Figure size 432x432 with 4 Axes>"
      ]
     },
     "metadata": {
      "needs_background": "light"
     },
     "output_type": "display_data"
    }
   ],
   "source": [
    "# create facet grid with bar plots\n",
    "                       \n",
    "g1 = sb.FacetGrid(data=df_final, col='LoanStatus', col_wrap=2)\n",
    "g1.map(sb.barplot, 'EmploymentStatusDuration', 'IncomeRange', color=color)\n",
    "g1.fig.suptitle('Employment duration vs Income Range per Loan Status', y=1.05);"
   ]
  },
  {
   "cell_type": "markdown",
   "metadata": {},
   "source": [
    "There are several observations that can be done based on this plot:\n",
    "* Active loans tend to have longer average employment duration than closed loans,\n",
    "* Borrowers in middle income ranges (25-100) have longer average employment duration\n",
    "* There does not seem to be a significant difference in average employment duration per income range between performing and nonperforming loans."
   ]
  },
  {
   "cell_type": "markdown",
   "metadata": {},
   "source": [
    "### Talk about some of the relationships you observed in this part of the investigation. Were there features that strengthened each other in terms of looking at your feature(s) of interest?\n",
    "\n",
    "* as expected borrower rates have been consistently lower for the performing categories as compared to nonperforming categories throughout the years,\n",
    "\n",
    "* Looking at the performing categories it is clearly visible that the 60-month loans start to make up a large share of Propsers portfolio with most of the loans being in the Debt Consolidation category. Also Debt Consolidation & 60 month loans tend to have a lower share of delinquent listings compared to other categories.\n",
    "\n",
    "* there were not particular observations made with regards to employment status duration vs Income range other than confirming what was already visible after bivariate analysis."
   ]
  },
  {
   "cell_type": "code",
   "execution_count": null,
   "metadata": {},
   "outputs": [],
   "source": []
  }
 ],
 "metadata": {
  "kernelspec": {
   "display_name": "Python 3",
   "language": "python",
   "name": "python3"
  },
  "language_info": {
   "codemirror_mode": {
    "name": "ipython",
    "version": 3
   },
   "file_extension": ".py",
   "mimetype": "text/x-python",
   "name": "python",
   "nbconvert_exporter": "python",
   "pygments_lexer": "ipython3",
   "version": "3.8.5"
  }
 },
 "nbformat": 4,
 "nbformat_minor": 2
}
